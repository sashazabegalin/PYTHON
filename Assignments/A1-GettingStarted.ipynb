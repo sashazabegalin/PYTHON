{
 "cells": [
  {
   "cell_type": "markdown",
   "metadata": {
    "deletable": false,
    "editable": false,
    "nbgrader": {
     "cell_type": "markdown",
     "checksum": "29716047ce16b3b85814616d7b55dc19",
     "grade": false,
     "grade_id": "cell-6d65dd6e007dbe8b",
     "locked": true,
     "schema_version": 3,
     "solution": false
    }
   },
   "source": [
    "# Assignment 1: Getting Started\n",
    "\n",
    "This assignment covers Variables, Operators & Functions.\n",
    "\n",
    "This assignment is out of 8 points, worth 8% of your grade.\n",
    "\n",
    "**PLEASE DO NOT CHANGE THE NAME OF THIS FILE.**\n",
    "\n",
    "**PLEASE DO NOT COPY & PASTE OR DELETE CELLS INLCUDED IN THE ASSIGNMENT.**"
   ]
  },
  {
   "cell_type": "code",
   "execution_count": null,
   "metadata": {},
   "outputs": [],
   "source": []
  },
  {
   "cell_type": "markdown",
   "metadata": {
    "deletable": false,
    "editable": false,
    "nbgrader": {
     "cell_type": "markdown",
     "checksum": "88f60df384332a00f91a6ab142cff39d",
     "grade": false,
     "grade_id": "cell-076d94f60e5b8c08",
     "locked": true,
     "schema_version": 3,
     "solution": false
    }
   },
   "source": [
    "## How to complete assignments\n",
    "\n",
    "Whenever you see:\n",
    "\n",
    "```python\n",
    "# YOUR CODE HERE\n",
    "raise NotImplementedError()\n",
    "```\n",
    "\n",
    "You need to **replace (meaning, delete) these lines of code with some code that answers the questions** and meets the specified criteria. Make sure you remove the 'raise' line when you do this (or your notebook will raise an error, regardless of any other code, and thus fail the grading tests).\n",
    "\n",
    "You should write the answer to the questions in those cells (the ones with `# YOUR CODE HERE`), but you can also add extra cells to explore / investigate things if you need / want to. \n",
    "\n",
    "Any cell with `assert` statements in it is a test cell. You should not try to change or delete these cells. Note that there might be more than one assert that tests a particular question. \n",
    "\n",
    "If a test does fail, reading the error that is printed out should let you know which test failed, which may be useful for fixing it.\n",
    "\n",
    "Note that some cells, including the test cells, may be read only, which means they won't let you edit them. If you cannot edit a cell - that is normal, and you shouldn't need to edit that cell."
   ]
  },
  {
   "cell_type": "markdown",
   "metadata": {
    "deletable": false,
    "editable": false,
    "nbgrader": {
     "cell_type": "markdown",
     "checksum": "2403921c886e5f7f1d27308750894f19",
     "grade": false,
     "grade_id": "cell-aa14d747b81ff70a",
     "locked": true,
     "schema_version": 3,
     "solution": false
    }
   },
   "source": [
    "## Tips & Tricks\n",
    "\n",
    "The following are a couple tips & tricks that may help you if you get stuck on anything."
   ]
  },
  {
   "cell_type": "markdown",
   "metadata": {
    "deletable": false,
    "editable": false,
    "nbgrader": {
     "cell_type": "markdown",
     "checksum": "e8ce3d5d82c7104dcc8c23716db0bc20",
     "grade": false,
     "grade_id": "cell-6412adb8ee6f881c",
     "locked": true,
     "schema_version": 3,
     "solution": false
    }
   },
   "source": [
    "### Printing Variables\n",
    "\n",
    "A reminder that you can (and should) print and check variables as you go.\n",
    "\n",
    "This allows you to check what values they hold, and fix things if anything unexpected happens."
   ]
  },
  {
   "cell_type": "code",
   "execution_count": 1,
   "metadata": {
    "deletable": false,
    "editable": false,
    "nbgrader": {
     "cell_type": "code",
     "checksum": "c9a80479aab4feabef091eb2bd8da199",
     "grade": false,
     "grade_id": "cell-2e5a6465a720c95f",
     "locked": true,
     "schema_version": 3,
     "solution": false
    }
   },
   "outputs": [
    {
     "name": "stdout",
     "output_type": "stream",
     "text": [
      "8\n"
     ]
    }
   ],
   "source": [
    "# Define a variable\n",
    "math_result = 2 * 4\n",
    "\n",
    "# Print out the value(s) of a variable.\n",
    "print(math_result)"
   ]
  },
  {
   "cell_type": "markdown",
   "metadata": {
    "deletable": false,
    "editable": false,
    "nbgrader": {
     "cell_type": "markdown",
     "checksum": "2ac4ffc0845b948e1d651886f60d35ec",
     "grade": false,
     "grade_id": "cell-3c55c888d33fd092",
     "locked": true,
     "schema_version": 3,
     "solution": false
    }
   },
   "source": [
    "### Restarting the Kernel\n",
    "\n",
    "A reminder that sometimes if you run cells out of order, you can end up overwriting things in your namespace. \n",
    "\n",
    "If things seem to go weird, a good first step is to restart the kernel, which you can do from the kernel menu above.\n",
    "\n",
    "Even if everything seems to be working, it's a nice check to 'Restart & Run All' to make sure everything runs properly in order."
   ]
  },
  {
   "cell_type": "markdown",
   "metadata": {
    "deletable": false,
    "editable": false,
    "nbgrader": {
     "cell_type": "markdown",
     "checksum": "cf0930800d131c23f0dfa5f22f324c14",
     "grade": false,
     "grade_id": "cell-e67b86c582091c92",
     "locked": true,
     "schema_version": 3,
     "solution": false
    }
   },
   "source": [
    "## Example Question\n",
    "\n",
    "Define a variable called `my_int` that stores the value 17. "
   ]
  },
  {
   "cell_type": "code",
   "execution_count": 2,
   "metadata": {
    "deletable": false,
    "editable": false,
    "nbgrader": {
     "cell_type": "code",
     "checksum": "0d01d87290069e8dc9b20a53ce343e8a",
     "grade": false,
     "grade_id": "cell-5bd6704f5d589daa",
     "locked": true,
     "schema_version": 3,
     "solution": false
    }
   },
   "outputs": [],
   "source": [
    "# YOUR CODE HERE\n",
    "my_int = 17"
   ]
  },
  {
   "cell_type": "code",
   "execution_count": 3,
   "metadata": {
    "deletable": false,
    "editable": false,
    "nbgrader": {
     "cell_type": "code",
     "checksum": "32bc8d2b2c500dbfda97da4679f118ec",
     "grade": false,
     "grade_id": "cell-6ce35a31b948c276",
     "locked": true,
     "schema_version": 3,
     "solution": false
    }
   },
   "outputs": [],
   "source": [
    "# This is a test cell. It checks that the code you wrote does what it's supposed to\n",
    "assert  my_int                     # This tests that a variable exists\n",
    "assert  type(my_int) == int        # This tests that a variable is of a particular type\n",
    "assert  my_int == 17               # This tests that a variable has a specified value"
   ]
  },
  {
   "cell_type": "markdown",
   "metadata": {
    "deletable": false,
    "editable": false,
    "nbgrader": {
     "cell_type": "markdown",
     "checksum": "fbacc5d0f74d3b080f3e04401d872f44",
     "grade": false,
     "grade_id": "cell-c9b88531d7cf61bc",
     "locked": true,
     "schema_version": 3,
     "solution": false
    }
   },
   "source": [
    "## Part I - Defining Variables\n",
    "\n",
    "First, we will start by defining some Python variables. "
   ]
  },
  {
   "cell_type": "markdown",
   "metadata": {
    "deletable": false,
    "editable": false,
    "nbgrader": {
     "cell_type": "markdown",
     "checksum": "a0af2367f730fecea3d8351370eba69d",
     "grade": false,
     "grade_id": "cell-b28d47658f801568",
     "locked": true,
     "schema_version": 3,
     "solution": false
    }
   },
   "source": [
    "### Q1 - Create Variables (1.25 points)\n",
    "\n",
    "Create the following variables:\n",
    "- a variable called `number` that stores the value 929\n",
    "- a variable called `decimal` that stores the value 9.29\n",
    "- a variable called `word` that stores the value 'cogs 18' (note: there is a space between cogs and 18)\n",
    "- a variable called `truth` that stores the value True\n",
    "- a variable called `nada` that stores the value None"
   ]
  },
  {
   "cell_type": "code",
   "execution_count": 4,
   "metadata": {
    "deletable": false,
    "nbgrader": {
     "cell_type": "code",
     "checksum": "d5a67d880168128986c333acb3aaf130",
     "grade": false,
     "grade_id": "cell-aba100abfe23c75f",
     "locked": false,
     "schema_version": 3,
     "solution": true
    }
   },
   "outputs": [],
   "source": [
    "# Create the variables\n",
    "number = 929\n",
    "decimal = 9.29\n",
    "word = 'cogs 18'\n",
    "truth = True\n",
    "nada = None"
   ]
  },
  {
   "cell_type": "code",
   "execution_count": 5,
   "metadata": {
    "deletable": false,
    "editable": false,
    "nbgrader": {
     "cell_type": "code",
     "checksum": "1592c0ad949099a0597054c8bd97c989",
     "grade": true,
     "grade_id": "cell-6d742eec19ccc8b1",
     "locked": true,
     "points": 0.25,
     "schema_version": 3,
     "solution": false
    }
   },
   "outputs": [],
   "source": [
    "## TESTS FOR Q1\n",
    "\n",
    "# Check that variable `number` is an int, and has the correct value\n",
    "assert type(number) == int\n",
    "assert number == 929"
   ]
  },
  {
   "cell_type": "code",
   "execution_count": 6,
   "metadata": {
    "deletable": false,
    "editable": false,
    "nbgrader": {
     "cell_type": "code",
     "checksum": "73d4a3df29d0a45ffe21b71003bab3b0",
     "grade": true,
     "grade_id": "cell-4757efea652f25f7",
     "locked": true,
     "points": 0.25,
     "schema_version": 3,
     "solution": false
    }
   },
   "outputs": [],
   "source": [
    "## TESTS FOR Q1\n",
    "\n",
    "# Check that variable `decimal` is a float, and has the correct value\n",
    "assert type(decimal) == float\n",
    "assert decimal == 9.29"
   ]
  },
  {
   "cell_type": "code",
   "execution_count": 7,
   "metadata": {
    "deletable": false,
    "editable": false,
    "nbgrader": {
     "cell_type": "code",
     "checksum": "155674e5b5de460661590b25a46be2bb",
     "grade": true,
     "grade_id": "cell-8b0f7e2f80328a33",
     "locked": true,
     "points": 0.25,
     "schema_version": 3,
     "solution": false
    }
   },
   "outputs": [],
   "source": [
    "## TESTS FOR Q1\n",
    "\n",
    "# Check that variable `words` is a string, and has the correct value\n",
    "assert type(word) == str\n",
    "assert word == 'cogs 18'"
   ]
  },
  {
   "cell_type": "code",
   "execution_count": 8,
   "metadata": {
    "deletable": false,
    "editable": false,
    "nbgrader": {
     "cell_type": "code",
     "checksum": "e94f93acbe0d99370aa3fd5df226922a",
     "grade": true,
     "grade_id": "cell-bea89cf2bc700120",
     "locked": true,
     "points": 0.25,
     "schema_version": 3,
     "solution": false
    }
   },
   "outputs": [],
   "source": [
    "## TESTS FOR Q1\n",
    "\n",
    "# Check that variable `truth` is a boolean, and has the correct value\n",
    "assert type(truth) == bool\n",
    "assert truth == True"
   ]
  },
  {
   "cell_type": "code",
   "execution_count": 9,
   "metadata": {
    "deletable": false,
    "editable": false,
    "nbgrader": {
     "cell_type": "code",
     "checksum": "47b34962fbe81109f8483b19fa12270b",
     "grade": true,
     "grade_id": "cell-a9284fa7620f0807",
     "locked": true,
     "points": 0.25,
     "schema_version": 3,
     "solution": false
    }
   },
   "outputs": [],
   "source": [
    "## TESTS FOR Q1\n",
    "\n",
    "# Check that variable `nada` is NoneType, and has the correct value\n",
    "assert type(nada) == type(None)\n",
    "assert nada == None"
   ]
  },
  {
   "cell_type": "markdown",
   "metadata": {
    "deletable": false,
    "editable": false,
    "nbgrader": {
     "cell_type": "markdown",
     "checksum": "d1c6f0ff25d737b27c18ffedcedc4337",
     "grade": false,
     "grade_id": "cell-8b40ab8ecc72bd4f",
     "locked": true,
     "schema_version": 3,
     "solution": false
    }
   },
   "source": [
    "## Part II - Operations"
   ]
  },
  {
   "cell_type": "markdown",
   "metadata": {
    "deletable": false,
    "editable": false,
    "nbgrader": {
     "cell_type": "markdown",
     "checksum": "8aca4d01e3a051890acd6b7ca57f682e",
     "grade": false,
     "grade_id": "cell-f3d4874fb42d84ee",
     "locked": true,
     "schema_version": 3,
     "solution": false
    }
   },
   "source": [
    "### Q2 - Python as a Calculator (1 point)\n",
    "\n",
    "Reference the variable names provided below (`int_1`, `int_2`, `float_1`, `float_2`) to carry out the following calculations:\n",
    "\n",
    "- Set `ans_1` as the result of `int_1` divided by `int_2`\n",
    "- Set `ans_2` as the result of `float_1` multiplied by `float_2`, with `int_2` then added\n",
    "- Set `ans_3` as the result of `float_1` divided by `int_1`, the result of which is then raised to the power 2.\n",
    "- Set `ans_4` as the result of the remainder of `int_1` divided by `int_2`\n",
    "\n",
    "Note: your answer should use the *variables* provided (i.e. `int_1`), *not* the values they store (i.e. `27`)."
   ]
  },
  {
   "cell_type": "code",
   "execution_count": 10,
   "metadata": {
    "deletable": false,
    "editable": false,
    "nbgrader": {
     "cell_type": "code",
     "checksum": "f0438c9c9ebb033bd9836e63c5114c3e",
     "grade": false,
     "grade_id": "cell-b92668fca7f1ecd9",
     "locked": true,
     "schema_version": 3,
     "solution": false
    }
   },
   "outputs": [],
   "source": [
    "# These variables provided for you\n",
    "int_1 = 27\n",
    "int_2 = 9\n",
    "\n",
    "float_1 = 9.5\n",
    "float_2 = 19.0"
   ]
  },
  {
   "cell_type": "code",
   "execution_count": 11,
   "metadata": {
    "deletable": false,
    "nbgrader": {
     "cell_type": "code",
     "checksum": "a72e9284222ad3f9ddd69aaf465a20ce",
     "grade": false,
     "grade_id": "cell-470235f72bd8d68d",
     "locked": false,
     "schema_version": 3,
     "solution": true
    }
   },
   "outputs": [],
   "source": [
    "ans_1 = int_1 / int_2\n",
    "ans_2 = (float_1 * float_2) + int_2\n",
    "ans_3 = (float_1 / int_1) ** 2\n",
    "ans_4 = int_1 % int_2"
   ]
  },
  {
   "cell_type": "code",
   "execution_count": 12,
   "metadata": {
    "deletable": false,
    "editable": false,
    "nbgrader": {
     "cell_type": "code",
     "checksum": "320bbbfa5627b65b8f9d634f157ae3a1",
     "grade": true,
     "grade_id": "cell-12af4e4d3179f69e",
     "locked": true,
     "points": 0.25,
     "schema_version": 3,
     "solution": false
    }
   },
   "outputs": [],
   "source": [
    "## TESTS FOR Q2  [Note: Includes Hidden Tests]\n",
    "\n",
    "assert type(ans_1) == float"
   ]
  },
  {
   "cell_type": "code",
   "execution_count": 13,
   "metadata": {
    "deletable": false,
    "editable": false,
    "nbgrader": {
     "cell_type": "code",
     "checksum": "771fededf94a6a719a474e6e3a9098c3",
     "grade": true,
     "grade_id": "cell-aeeac9dbb5198fef",
     "locked": true,
     "points": 0.25,
     "schema_version": 3,
     "solution": false
    }
   },
   "outputs": [],
   "source": [
    "## TESTS FOR Q2  [Note: Includes Hidden Tests]\n",
    "\n",
    "assert type(ans_2) == float"
   ]
  },
  {
   "cell_type": "code",
   "execution_count": 14,
   "metadata": {
    "deletable": false,
    "editable": false,
    "nbgrader": {
     "cell_type": "code",
     "checksum": "42b64d6096fb16f06d960496f043fa0e",
     "grade": true,
     "grade_id": "cell-4bdf00498b0db006",
     "locked": true,
     "points": 0.25,
     "schema_version": 3,
     "solution": false
    }
   },
   "outputs": [],
   "source": [
    "## TESTS FOR Q2  [Note: Includes Hidden Tests]\n",
    "\n",
    "assert type(ans_3) == float"
   ]
  },
  {
   "cell_type": "code",
   "execution_count": 15,
   "metadata": {
    "deletable": false,
    "editable": false,
    "nbgrader": {
     "cell_type": "code",
     "checksum": "3d54dd7c3e8b976b5015f0175f7bfa6c",
     "grade": true,
     "grade_id": "cell-9df0702d77cd4bf2",
     "locked": true,
     "points": 0.25,
     "schema_version": 3,
     "solution": false
    }
   },
   "outputs": [],
   "source": [
    "## TESTS FOR Q2  [Note: Includes Hidden Tests]\n",
    "\n",
    "assert type(ans_4) == int"
   ]
  },
  {
   "cell_type": "markdown",
   "metadata": {
    "deletable": false,
    "editable": false,
    "nbgrader": {
     "cell_type": "markdown",
     "checksum": "03f5d28b62068622ad8fbf653f02e302",
     "grade": false,
     "grade_id": "cell-e3e75ad8f518edb6",
     "locked": true,
     "schema_version": 3,
     "solution": false
    }
   },
   "source": [
    "### Q3 - String Manipulations (0.5 points)\n",
    "\n",
    "Using the strings provided, concatenate them together into the string `Python is fun!`.Save this result to a variable called `str_fun`.\n",
    "\n",
    "Do the same, but concatenate to generate the string `Python is really fun!`. Save this result to a variable `str_really_fun`.\n",
    "\n",
    "Note: make sure to add spaces between words when concatenating together. "
   ]
  },
  {
   "cell_type": "code",
   "execution_count": 16,
   "metadata": {
    "deletable": false,
    "editable": false,
    "nbgrader": {
     "cell_type": "code",
     "checksum": "745ce73906f4691404fd24a8443a7090",
     "grade": false,
     "grade_id": "cell-6db873ca774ada6a",
     "locked": true,
     "schema_version": 3,
     "solution": false
    }
   },
   "outputs": [],
   "source": [
    "# These variables provided for you\n",
    "str_1 = 'Python'\n",
    "str_2 = 'is'\n",
    "str_3 = 'really'\n",
    "str_4 = 'fun!'"
   ]
  },
  {
   "cell_type": "code",
   "execution_count": 17,
   "metadata": {
    "deletable": false,
    "nbgrader": {
     "cell_type": "code",
     "checksum": "9a8b6a812a57ca08951f50f3e58dab55",
     "grade": false,
     "grade_id": "cell-eff2d0b53b5430eb",
     "locked": false,
     "schema_version": 3,
     "solution": true
    }
   },
   "outputs": [],
   "source": [
    "str_fun = str_1 + ' ' + str_2 + ' ' + str_4\n",
    "str_really_fun = str_1 + ' ' + str_2 + ' ' + str_3 + ' ' + str_4"
   ]
  },
  {
   "cell_type": "code",
   "execution_count": 18,
   "metadata": {
    "deletable": false,
    "editable": false,
    "nbgrader": {
     "cell_type": "code",
     "checksum": "18f2c282ac5aac1359a534491f0367c2",
     "grade": true,
     "grade_id": "cell-b9a1407c39acc29e",
     "locked": true,
     "points": 0.25,
     "schema_version": 3,
     "solution": false
    }
   },
   "outputs": [],
   "source": [
    "## TESTS FOR Q3\n",
    "\n",
    "assert type(str_fun) == str"
   ]
  },
  {
   "cell_type": "code",
   "execution_count": 19,
   "metadata": {
    "deletable": false,
    "editable": false,
    "nbgrader": {
     "cell_type": "code",
     "checksum": "0f551a81ea2e4107ed4a2be5af38d6d6",
     "grade": true,
     "grade_id": "cell-b297ff5f4ce9a659",
     "locked": true,
     "points": 0.25,
     "schema_version": 3,
     "solution": false
    }
   },
   "outputs": [],
   "source": [
    "##### TESTS FOR Q3 [Note: Includes Hidden Tests]\n",
    "\n",
    "assert str_fun == 'Python is fun!'"
   ]
  },
  {
   "cell_type": "markdown",
   "metadata": {
    "collapsed": true,
    "deletable": false,
    "editable": false,
    "nbgrader": {
     "cell_type": "markdown",
     "checksum": "6fa1f254b5cecc0c3a8b750064e20a3c",
     "grade": false,
     "grade_id": "cell-411d9ec18325d1ee",
     "locked": true,
     "schema_version": 3,
     "solution": false
    }
   },
   "source": [
    "### Q4 - Boolean Comparisons (0.5 points)\n",
    "\n",
    "Using the variables provided, do the following boolean logical comparisons:\n",
    "- Define `bool_comp_1` to be the logical `or` of `bool_1` and `bool_2`\n",
    "- Define `bool_comp_2` to be the logical `and` of  `bool_1` and `bool_2`"
   ]
  },
  {
   "cell_type": "code",
   "execution_count": 20,
   "metadata": {
    "deletable": false,
    "editable": false,
    "nbgrader": {
     "cell_type": "code",
     "checksum": "d57644a0ec27562678f8739806ebb5f8",
     "grade": false,
     "grade_id": "cell-68d4f74dd85167fa",
     "locked": true,
     "schema_version": 3,
     "solution": false
    }
   },
   "outputs": [],
   "source": [
    "# These variables provided for you\n",
    "bool_1 = True\n",
    "bool_2 = False"
   ]
  },
  {
   "cell_type": "code",
   "execution_count": 21,
   "metadata": {
    "deletable": false,
    "nbgrader": {
     "cell_type": "code",
     "checksum": "d79e0af3e35bc59cfa58dc7c583bbb4e",
     "grade": false,
     "grade_id": "cell-bf6144adc1f1e7f7",
     "locked": false,
     "schema_version": 3,
     "solution": true
    }
   },
   "outputs": [],
   "source": [
    "bool_comp_1 = bool_1 or bool_2\n",
    "bool_comp_2 = bool_2 and bool_2"
   ]
  },
  {
   "cell_type": "code",
   "execution_count": 22,
   "metadata": {
    "deletable": false,
    "editable": false,
    "nbgrader": {
     "cell_type": "code",
     "checksum": "282037654f1498fd1f1c74868f9a68f8",
     "grade": true,
     "grade_id": "cell-eeb7dcc8687131df",
     "locked": true,
     "points": 0.25,
     "schema_version": 3,
     "solution": false
    }
   },
   "outputs": [],
   "source": [
    "## TESTS FOR Q4 [Note: Includes Hidden Tests]\n",
    "assert type(bool_comp_1) == bool\n"
   ]
  },
  {
   "cell_type": "code",
   "execution_count": 23,
   "metadata": {
    "deletable": false,
    "editable": false,
    "nbgrader": {
     "cell_type": "code",
     "checksum": "673795516aa7ef4d05fef06c8fdafa86",
     "grade": true,
     "grade_id": "cell-7a05eded0276311c",
     "locked": true,
     "points": 0.25,
     "schema_version": 3,
     "solution": false
    }
   },
   "outputs": [],
   "source": [
    "## TESTS FOR Q4 [Note: Includes Hidden Tests]\n",
    "assert type(bool_comp_2) == bool\n"
   ]
  },
  {
   "cell_type": "markdown",
   "metadata": {
    "deletable": false,
    "editable": false,
    "nbgrader": {
     "cell_type": "markdown",
     "checksum": "29420916b4a5a6f90a8b587fe617763c",
     "grade": false,
     "grade_id": "cell-78f52214634eb6b8",
     "locked": true,
     "schema_version": 3,
     "solution": false
    }
   },
   "source": [
    "### Q5 - Value Comparisons (0.5 points)\n",
    "\n",
    "Do the following value comparisons:\n",
    "- Use comparison operators to determine if `comp_val_1` is exactly equal to the value stored in `comp_val_2`\n",
    "    - Store the result of this comparison to a variable called `comp_1`\n",
    "\n",
    "\n",
    "- Use comparison operators to determine if `comp_val_4` is less than or equal to the value stored in `comp_val_3`\n",
    "    - Store the result of this comparison to a variable called `comp_2`"
   ]
  },
  {
   "cell_type": "code",
   "execution_count": 24,
   "metadata": {
    "deletable": false,
    "editable": false,
    "nbgrader": {
     "cell_type": "code",
     "checksum": "6986254da43fde3bb3530a015ea4bd40",
     "grade": false,
     "grade_id": "cell-13d058159b65c34c",
     "locked": true,
     "schema_version": 3,
     "solution": false
    }
   },
   "outputs": [],
   "source": [
    "# These variables provided for you\n",
    "comp_val_1 = 13\n",
    "comp_val_2 = 22\n",
    "comp_val_3 = 13\n",
    "comp_val_4 = 11"
   ]
  },
  {
   "cell_type": "code",
   "execution_count": 25,
   "metadata": {
    "deletable": false,
    "nbgrader": {
     "cell_type": "code",
     "checksum": "a559eee02bb88dc6c3a74136890595f5",
     "grade": false,
     "grade_id": "cell-41f5d60aa2e09728",
     "locked": false,
     "schema_version": 3,
     "solution": true
    }
   },
   "outputs": [],
   "source": [
    "comp_1 = (comp_val_1 == comp_val_2)\n",
    "comp_2 = (comp_val_4 <= comp_val_3)"
   ]
  },
  {
   "cell_type": "code",
   "execution_count": 26,
   "metadata": {
    "deletable": false,
    "editable": false,
    "nbgrader": {
     "cell_type": "code",
     "checksum": "3b1ff8c8cb74a10dfadc73329587dfe5",
     "grade": true,
     "grade_id": "cell-313f6320a6e8c70a",
     "locked": true,
     "points": 0.25,
     "schema_version": 3,
     "solution": false
    }
   },
   "outputs": [],
   "source": [
    "## TESTS FOR Q5 [Note: Includes Hidden Tests]\n",
    "assert type(comp_1) == bool\n"
   ]
  },
  {
   "cell_type": "code",
   "execution_count": 27,
   "metadata": {
    "deletable": false,
    "editable": false,
    "nbgrader": {
     "cell_type": "code",
     "checksum": "e208d7687e64a8c1a134534a467aef66",
     "grade": true,
     "grade_id": "cell-283d8c591109241d",
     "locked": true,
     "points": 0.25,
     "schema_version": 3,
     "solution": false
    }
   },
   "outputs": [],
   "source": [
    "## TESTS FOR Q5 [Note: Includes Hidden Tests]\n",
    "assert type(comp_2) == bool\n"
   ]
  },
  {
   "cell_type": "markdown",
   "metadata": {
    "deletable": false,
    "editable": false,
    "nbgrader": {
     "cell_type": "markdown",
     "checksum": "210a03ca193bc50652e4f7a61fc6d04f",
     "grade": false,
     "grade_id": "cell-dd736bc1f50ffa9a",
     "locked": true,
     "schema_version": 3,
     "solution": false
    }
   },
   "source": [
    "## Part III - Functions\n",
    "\n",
    "This part covers the basics of writing and using functions."
   ]
  },
  {
   "cell_type": "markdown",
   "metadata": {
    "deletable": false,
    "editable": false,
    "nbgrader": {
     "cell_type": "markdown",
     "checksum": "0b6671555854c263fd32dc4b801f7d32",
     "grade": false,
     "grade_id": "cell-1b82709889d03621",
     "locked": true,
     "schema_version": 3,
     "solution": false
    }
   },
   "source": [
    "### Function Example\n",
    "\n",
    "The following is a function example provided to you, so you can remind yourself of the structure of functions.\n",
    "\n",
    "You don't need to do anything with this function but understand it."
   ]
  },
  {
   "cell_type": "code",
   "execution_count": 28,
   "metadata": {
    "deletable": false,
    "editable": false,
    "nbgrader": {
     "cell_type": "code",
     "checksum": "e9bfc6920a2562241872fc843547e788",
     "grade": false,
     "grade_id": "cell-723fafc097c2595a",
     "locked": true,
     "schema_version": 3,
     "solution": false
    }
   },
   "outputs": [],
   "source": [
    "# define the function\n",
    "def basic_function(input_number):\n",
    "    \n",
    "    # Multiply the input by 2\n",
    "    output = input_number * 2 \n",
    "    \n",
    "    return output"
   ]
  },
  {
   "cell_type": "code",
   "execution_count": 29,
   "metadata": {
    "deletable": false,
    "editable": false,
    "nbgrader": {
     "cell_type": "code",
     "checksum": "592b7983b8087b2e0345614603b23e71",
     "grade": false,
     "grade_id": "cell-13ba8bb63ec78e3e",
     "locked": true,
     "schema_version": 3,
     "solution": false
    }
   },
   "outputs": [
    {
     "name": "stdout",
     "output_type": "stream",
     "text": [
      "4\n",
      "10\n"
     ]
    }
   ],
   "source": [
    "# execute `basic_function`\n",
    "print(basic_function(2))\n",
    "print(basic_function(5))"
   ]
  },
  {
   "cell_type": "markdown",
   "metadata": {
    "deletable": false,
    "editable": false,
    "nbgrader": {
     "cell_type": "markdown",
     "checksum": "61af11b9514c32463ff086b0a9c1e279",
     "grade": false,
     "grade_id": "cell-885973b0697cb568",
     "locked": true,
     "schema_version": 3,
     "solution": false
    }
   },
   "source": [
    "### Q6 - Calculator (1 point)\n",
    "\n",
    "In Q2, we saw that Python can act as a calculator; however, those standalone statements are not particularly reusable when you want to do calculations with a different set of numbers.\n",
    "\n",
    "Here, we will make a series of functions to do all the mathematical operations that we want to do. \n",
    "\n",
    "Define four functions, called `summation`, `subtraction`, `multiplication`, and `division`. \n",
    "\n",
    "Each of them will take two inputs `num1` and `num2` (that could be `int` or `float`), and use them as follows:\n",
    "- `summation` will add `num1` to `num2` and return the result\n",
    "- `subtraction` will carry out subtraction: `num1` minus `num2` and return the result\n",
    "- `multiplication` will multiply `num1` by `num2` and return the result\n",
    "- `division` will divide `num1` by `num2` and return the result"
   ]
  },
  {
   "cell_type": "code",
   "execution_count": 30,
   "metadata": {
    "deletable": false,
    "nbgrader": {
     "cell_type": "code",
     "checksum": "0b41efbabe21c146104cb6fbc04477a8",
     "grade": false,
     "grade_id": "cell-6da5de076983020f",
     "locked": false,
     "schema_version": 3,
     "solution": true
    }
   },
   "outputs": [],
   "source": [
    "def summation(num1, num2):\n",
    "    s = num1 + num2\n",
    "    return s\n",
    "\n",
    "def subtraction(num1, num2):\n",
    "    d = num1 - num2\n",
    "    return d\n",
    "\n",
    "def multiplication(num1, num2):\n",
    "    p = num1 * num2\n",
    "    return p\n",
    "\n",
    "def division(num1, num2):\n",
    "    q = num1 / num2\n",
    "    return q"
   ]
  },
  {
   "cell_type": "code",
   "execution_count": 31,
   "metadata": {
    "deletable": false,
    "editable": false,
    "nbgrader": {
     "cell_type": "code",
     "checksum": "99932a0bb9519d9dc280089154ac42fb",
     "grade": true,
     "grade_id": "cell-2db5b9469ddd3f5e",
     "locked": true,
     "points": 0.25,
     "schema_version": 3,
     "solution": false
    }
   },
   "outputs": [],
   "source": [
    "## TESTS FOR Q6 [Note: Includes Hidden Tests]\n",
    "\n",
    "assert callable(summation)\n",
    "assert type(summation(2, 2)) == int\n",
    "assert type(summation(2.5, 1)) == float\n",
    "assert summation(1, 1) == 2\n"
   ]
  },
  {
   "cell_type": "code",
   "execution_count": 32,
   "metadata": {
    "deletable": false,
    "editable": false,
    "nbgrader": {
     "cell_type": "code",
     "checksum": "08f7fa9e7e42d38127090f46c3800dbb",
     "grade": true,
     "grade_id": "cell-0e21e32dc2acc953",
     "locked": true,
     "points": 0.25,
     "schema_version": 3,
     "solution": false
    }
   },
   "outputs": [],
   "source": [
    "## TESTS FOR Q6 [Note: Includes Hidden Tests]\n",
    "\n",
    "assert callable(subtraction)\n",
    "assert type(subtraction(2, 2)) == int\n",
    "assert type(summation(2.5, 0.5)) == float\n",
    "assert subtraction(1, 1) == 0\n"
   ]
  },
  {
   "cell_type": "code",
   "execution_count": 33,
   "metadata": {
    "deletable": false,
    "editable": false,
    "nbgrader": {
     "cell_type": "code",
     "checksum": "a8848d5b9ca1c5adeae623eb4153402c",
     "grade": true,
     "grade_id": "cell-89646145e140818b",
     "locked": true,
     "points": 0.25,
     "schema_version": 3,
     "solution": false
    }
   },
   "outputs": [],
   "source": [
    "## TESTS FOR Q6 [Note: Includes Hidden Tests]\n",
    "\n",
    "assert callable(multiplication)\n",
    "assert type(multiplication(2, 2)) == int\n",
    "assert type(multiplication(2.5, 2)) == float\n",
    "assert multiplication(1, 1) == 1\n"
   ]
  },
  {
   "cell_type": "code",
   "execution_count": 34,
   "metadata": {
    "deletable": false,
    "editable": false,
    "nbgrader": {
     "cell_type": "code",
     "checksum": "5417b38a6706adbaa4c0ef58ea2fec88",
     "grade": true,
     "grade_id": "cell-065fccebdd8cda04",
     "locked": true,
     "points": 0.25,
     "schema_version": 3,
     "solution": false
    }
   },
   "outputs": [],
   "source": [
    "## TESTS FOR Q6 [Note: Includes Hidden Tests]\n",
    "\n",
    "assert callable(division)\n",
    "assert type(division(2, 2)) == float\n",
    "assert type(division(2.5, 0.5)) == float\n",
    "assert division(1, 1) == 1\n"
   ]
  },
  {
   "cell_type": "markdown",
   "metadata": {
    "deletable": false,
    "editable": false,
    "nbgrader": {
     "cell_type": "markdown",
     "checksum": "c0dd6cc8a3bc5b7c1d7b43bf60a97aee",
     "grade": false,
     "grade_id": "cell-5ab08f68dc71b58a",
     "locked": true,
     "schema_version": 3,
     "solution": false
    }
   },
   "source": [
    "### Q7 - Extending our Calculator  (0.5 points)\n",
    "\n",
    "Let's now add some more functions to our calculator: \n",
    "\n",
    "- Write a function called `squared` that takes one parameter, called `num`, and returns the square of it. \n",
    "- Write a function called `square_root` that takes one parameter, called `num`, and returns the square root of it. "
   ]
  },
  {
   "cell_type": "code",
   "execution_count": 35,
   "metadata": {
    "deletable": false,
    "nbgrader": {
     "cell_type": "code",
     "checksum": "73a5d6eeb4525bca2aaa5d347151adf8",
     "grade": false,
     "grade_id": "cell-249d571080483d7e",
     "locked": false,
     "schema_version": 3,
     "solution": true
    }
   },
   "outputs": [],
   "source": [
    "def squared(num):\n",
    "    return num ** 2\n",
    "\n",
    "def square_root(num):\n",
    "    return num ** 0.5"
   ]
  },
  {
   "cell_type": "code",
   "execution_count": 36,
   "metadata": {
    "deletable": false,
    "editable": false,
    "nbgrader": {
     "cell_type": "code",
     "checksum": "1f5c6b173e164e239764b7c448a23ab2",
     "grade": true,
     "grade_id": "cell-d9c2b8004a926b36",
     "locked": true,
     "points": 0.25,
     "schema_version": 3,
     "solution": false
    }
   },
   "outputs": [],
   "source": [
    "## TESTS FOR Q7 [Note: Includes Hidden Tests]\n",
    "\n",
    "assert callable(squared)\n",
    "assert type(squared(2)) == int\n",
    "assert squared(5) == 25\n"
   ]
  },
  {
   "cell_type": "code",
   "execution_count": 37,
   "metadata": {
    "deletable": false,
    "editable": false,
    "nbgrader": {
     "cell_type": "code",
     "checksum": "66f85915971e6d714d75e92b680f9728",
     "grade": true,
     "grade_id": "cell-259646bd6dbbc035",
     "locked": true,
     "points": 0.25,
     "schema_version": 3,
     "solution": false
    }
   },
   "outputs": [],
   "source": [
    "## TESTS FOR Q7 [Note: Includes Hidden Tests]\n",
    "\n",
    "assert callable(square_root)\n",
    "assert type(square_root(4)) == float\n",
    "assert square_root(144) == 12\n"
   ]
  },
  {
   "cell_type": "markdown",
   "metadata": {
    "deletable": false,
    "editable": false,
    "nbgrader": {
     "cell_type": "markdown",
     "checksum": "bcae6d47c53f5d04e53285ad290a480b",
     "grade": false,
     "grade_id": "cell-9bbb8063da29deb3",
     "locked": true,
     "schema_version": 3,
     "solution": false
    }
   },
   "source": [
    "### Example: Chaining Functions Together\n",
    "\n",
    "The goal of using functions is partly to be able to re-use code segments. \n",
    "\n",
    "It's also a way to be able to flexibly apply and combine different functions together, to build up to more complex and interesting programs. \n",
    "\n",
    "The cell below shows a couple examples of using our calculator functions that we have now defined, in combination with each other. "
   ]
  },
  {
   "cell_type": "code",
   "execution_count": 38,
   "metadata": {
    "deletable": false,
    "editable": false,
    "nbgrader": {
     "cell_type": "code",
     "checksum": "054d24edfe76fd14df5f5f8135319944",
     "grade": false,
     "grade_id": "cell-721029323933293f",
     "locked": true,
     "schema_version": 3,
     "solution": false
    }
   },
   "outputs": [
    {
     "name": "stdout",
     "output_type": "stream",
     "text": [
      "Output1: \t 18\n",
      "\n",
      "Output2: \t 18\n"
     ]
    }
   ],
   "source": [
    "# Add the multiplication of 2 and 3 to the multiplication of 3 and 4\n",
    "number1 = multiplication(2, 3)\n",
    "number2 = multiplication(3, 4)\n",
    "output1 = summation(number1, number2)\n",
    "print('Output1: \\t', output1)\n",
    "\n",
    "print('')\n",
    "\n",
    "# Note that we can use the outputs of functions directly as inputs to other functions\n",
    "#   Therefore, the above construction is equivalent to the following:\n",
    "output2 = summation(multiplication(2, 3), multiplication(3, 4))\n",
    "print('Output2: \\t', output2)\n",
    "\n",
    "# When we have something like above, the functions that are inputs get evaluated first:\n",
    "#   So, first, `multiplication(2, 3)` evaluates as 6, and `multiplication(3, 4)` evaluates as 12\n",
    "#   This then reduces to calling `summation(6, 12)`, which returns our answer of 18"
   ]
  },
  {
   "cell_type": "markdown",
   "metadata": {
    "deletable": false,
    "editable": false,
    "nbgrader": {
     "cell_type": "markdown",
     "checksum": "19bb58a4b2377a6d613f9bbdce9ebfe9",
     "grade": false,
     "grade_id": "cell-d5566ec96e20686b",
     "locked": true,
     "schema_version": 3,
     "solution": false
    }
   },
   "source": [
    "### Q8 - Using Our Calculator  (1 point)\n",
    "\n",
    "Let's now *use our new calculator functions* to do some calculations!\n",
    "\n",
    "- Add 3 squared to the square root of 49\n",
    "    - Save the result to a variable called `calc_a`\n",
    "- Subtract the division of 12 by 3 from the the multiplication of 2 and 4\n",
    "    - Save the result to a variable called `calc_b`\n",
    "- Multiply the square root of 25 by the sum of 7 and 8\n",
    "    - Save the result to a variable called `calc_c`\n",
    "- Divide the square of 5 by the square root of 25\n",
    "    - Save the result to a variable called `calc_d`"
   ]
  },
  {
   "cell_type": "code",
   "execution_count": 39,
   "metadata": {
    "deletable": false,
    "nbgrader": {
     "cell_type": "code",
     "checksum": "002c6134313e03b0ab99864d05ebae94",
     "grade": false,
     "grade_id": "cell-78166757e331fd3f",
     "locked": false,
     "schema_version": 3,
     "solution": true
    }
   },
   "outputs": [],
   "source": [
    "calc_a = square_root(49) + squared(3) \n",
    "calc_b = multiplication(2,4) - division(12,3)\n",
    "calc_c = square_root(25) * summation(7,8)\n",
    "calc_d = squared(5) / square_root(25)"
   ]
  },
  {
   "cell_type": "code",
   "execution_count": 40,
   "metadata": {
    "deletable": false,
    "editable": false,
    "nbgrader": {
     "cell_type": "code",
     "checksum": "26679c657f5ca952d5965ced856b899a",
     "grade": true,
     "grade_id": "cell-e29a42fbdc3ccdc5",
     "locked": true,
     "points": 0.25,
     "schema_version": 3,
     "solution": false
    }
   },
   "outputs": [],
   "source": [
    "## TESTS FOR Q8 [Note: Includes Hidden Tests]\n",
    "\n",
    "assert calc_a\n",
    "assert type(calc_a) == float\n"
   ]
  },
  {
   "cell_type": "code",
   "execution_count": 41,
   "metadata": {
    "deletable": false,
    "editable": false,
    "nbgrader": {
     "cell_type": "code",
     "checksum": "18da6dcb0e0962163fa93e377272f2d5",
     "grade": true,
     "grade_id": "cell-00d84e7f456e3984",
     "locked": true,
     "points": 0.25,
     "schema_version": 3,
     "solution": false
    }
   },
   "outputs": [],
   "source": [
    "## TESTS FOR Q8 [Note: Includes Hidden Tests]\n",
    "\n",
    "assert calc_b\n",
    "assert type(calc_b) == float\n"
   ]
  },
  {
   "cell_type": "code",
   "execution_count": 42,
   "metadata": {
    "deletable": false,
    "editable": false,
    "nbgrader": {
     "cell_type": "code",
     "checksum": "6ebfe1ff9f1ccab1b77de5163b483ab2",
     "grade": true,
     "grade_id": "cell-c5231a0cfa605a94",
     "locked": true,
     "points": 0.25,
     "schema_version": 3,
     "solution": false
    }
   },
   "outputs": [],
   "source": [
    "## TESTS FOR Q8 [Note: Includes Hidden Tests]\n",
    "\n",
    "assert calc_c\n",
    "assert type(calc_c) == float\n"
   ]
  },
  {
   "cell_type": "code",
   "execution_count": 43,
   "metadata": {
    "deletable": false,
    "editable": false,
    "nbgrader": {
     "cell_type": "code",
     "checksum": "247d3189e876926fe3fcd956aba67f7c",
     "grade": true,
     "grade_id": "cell-9b225dabad981fb1",
     "locked": true,
     "points": 0.25,
     "schema_version": 3,
     "solution": false
    }
   },
   "outputs": [],
   "source": [
    "## TESTS FOR Q8 [Note: Includes Hidden Tests]\n",
    "\n",
    "assert calc_d\n",
    "assert type(calc_d) == float\n"
   ]
  },
  {
   "cell_type": "markdown",
   "metadata": {
    "deletable": false,
    "editable": false,
    "nbgrader": {
     "cell_type": "markdown",
     "checksum": "e43448248749ab59c3d12e82ef0cd74a",
     "grade": false,
     "grade_id": "cell-20b61284b044daf2",
     "locked": true,
     "schema_version": 3,
     "solution": false
    }
   },
   "source": [
    "### Q9 - Curve Grade  (1 point)\n",
    "\n",
    "Write a function to apply a very simple curve to an input grade. The function will be called `curve_grade` and will take two parameters as inputs, in the order specified here: \n",
    "\n",
    "- `points` : the number of points a student earned on an assignment (int or float)\n",
    "- `curve` : the proportion of curve to apply to the student's `points` (int or float)\n",
    "\n",
    "Within the function, the code will `return` `curved_grade`. This code will apply the proportion specified in `curve` to the student's points. For example, if `curve` is 0.1 and `points` is 100, the code in the funtion would multiply `100` (`points`) by `0.1` (`curve`) and add that back to the original `points`, `return`ing the value `110`. If `points` were `90` and `curve` was `0.05`, the function would `return` `94.5`."
   ]
  },
  {
   "cell_type": "code",
   "execution_count": 44,
   "metadata": {
    "deletable": false,
    "nbgrader": {
     "cell_type": "code",
     "checksum": "c7d348178724ddffe5a1ee5d6ba4f936",
     "grade": false,
     "grade_id": "cell-1328d643463d0a68",
     "locked": false,
     "schema_version": 3,
     "solution": true
    }
   },
   "outputs": [],
   "source": [
    "def curve_grade(points, curve):\n",
    "    curved_grade = points + (points * curve)\n",
    "    return curved_grade"
   ]
  },
  {
   "cell_type": "code",
   "execution_count": 45,
   "metadata": {},
   "outputs": [],
   "source": [
    "# BE SURE YOUR ANSWER IS IN THE CELL ABOVE\n",
    "# but you can use this cell to test/execute/check your thinking (optional)"
   ]
  },
  {
   "cell_type": "code",
   "execution_count": 46,
   "metadata": {
    "deletable": false,
    "editable": false,
    "nbgrader": {
     "cell_type": "code",
     "checksum": "32ed70149a893e6766550a15ed98063c",
     "grade": true,
     "grade_id": "cell-ff0f16aa91a10950",
     "locked": true,
     "points": 0.25,
     "schema_version": 3,
     "solution": false
    }
   },
   "outputs": [],
   "source": [
    "## TESTS FOR Q9\n",
    "\n",
    "assert curve_grade\n",
    "assert curve_grade(100, 0.1) == 110"
   ]
  },
  {
   "cell_type": "code",
   "execution_count": 47,
   "metadata": {
    "deletable": false,
    "editable": false,
    "nbgrader": {
     "cell_type": "code",
     "checksum": "80e5afec4352364bac908d55dbb330d5",
     "grade": true,
     "grade_id": "cell-6a372d4477ec3403",
     "locked": true,
     "points": 0.25,
     "schema_version": 3,
     "solution": false
    }
   },
   "outputs": [],
   "source": [
    "## TESTS FOR Q9 [Note: Hidden Tests]\n"
   ]
  },
  {
   "cell_type": "code",
   "execution_count": 48,
   "metadata": {
    "deletable": false,
    "editable": false,
    "nbgrader": {
     "cell_type": "code",
     "checksum": "c7017116106a23ee6d4cd4055a86e2c2",
     "grade": true,
     "grade_id": "cell-e74d5a799a1776cc",
     "locked": true,
     "points": 0.5,
     "schema_version": 3,
     "solution": false
    }
   },
   "outputs": [],
   "source": [
    "## TESTS FOR Q9 [Note: Hidden Tests]\n"
   ]
  },
  {
   "cell_type": "markdown",
   "metadata": {
    "deletable": false,
    "editable": false,
    "nbgrader": {
     "cell_type": "markdown",
     "checksum": "5a1d84ac37040388f412eea915c54470",
     "grade": false,
     "grade_id": "cell-69a354a6d322985f",
     "locked": true,
     "schema_version": 3,
     "solution": false
    }
   },
   "source": [
    "### Q10 - Using `curve_grade`  (0.75 points)\n",
    "\n",
    "Execute your `curve_grade` function to generate the `curved_grade` for 3 students in the same class on their first exam, applying a 3% curve (0.03 for `curve`) to each student's score. Store the student's curved grade in the variable specified below:\n",
    "\n",
    "- `student_a` | earned 12.2 `points`\n",
    "- `student_b` | earned 11 `points`\n",
    "- `student_c` | earned 11.5 `points`"
   ]
  },
  {
   "cell_type": "code",
   "execution_count": 49,
   "metadata": {
    "deletable": false,
    "nbgrader": {
     "cell_type": "code",
     "checksum": "a4acd359c0af12692820f93f5396d62e",
     "grade": false,
     "grade_id": "cell-dd63cd542096825b",
     "locked": false,
     "schema_version": 3,
     "solution": true
    }
   },
   "outputs": [],
   "source": [
    "student_a = curve_grade(points=12.2, curve=0.03)\n",
    "student_b = curve_grade(points=11, curve=0.03)\n",
    "student_c = curve_grade(points=11.5, curve=0.03)"
   ]
  },
  {
   "cell_type": "code",
   "execution_count": 50,
   "metadata": {
    "deletable": false,
    "editable": false,
    "nbgrader": {
     "cell_type": "code",
     "checksum": "c3f708470288fbd1c604fb085d5b4038",
     "grade": true,
     "grade_id": "cell-27e516bea517e29f",
     "locked": true,
     "points": 0.25,
     "schema_version": 3,
     "solution": false
    }
   },
   "outputs": [],
   "source": [
    "## TESTS FOR Q10 [Note: Hidden Tests]\n",
    "\n",
    "assert student_a\n",
    "assert type(student_a) == float\n"
   ]
  },
  {
   "cell_type": "code",
   "execution_count": 51,
   "metadata": {
    "deletable": false,
    "editable": false,
    "nbgrader": {
     "cell_type": "code",
     "checksum": "4e38b28c82be07a5965f102f54764540",
     "grade": true,
     "grade_id": "cell-33337142852a443b",
     "locked": true,
     "points": 0.25,
     "schema_version": 3,
     "solution": false
    }
   },
   "outputs": [],
   "source": [
    "## TESTS FOR Q10 [Note: Hidden Tests]\n",
    "\n",
    "assert student_b\n",
    "assert type(student_b) == float\n"
   ]
  },
  {
   "cell_type": "code",
   "execution_count": 52,
   "metadata": {
    "deletable": false,
    "editable": false,
    "nbgrader": {
     "cell_type": "code",
     "checksum": "cea872e50f3fafb1c6c22f2687d77d15",
     "grade": true,
     "grade_id": "cell-76452dd79b41edc4",
     "locked": true,
     "points": 0.25,
     "schema_version": 3,
     "solution": false
    }
   },
   "outputs": [],
   "source": [
    "## TESTS FOR Q10 [Note: Hidden Tests]\n",
    "\n",
    "assert student_c\n",
    "assert type(student_c) == float\n"
   ]
  },
  {
   "cell_type": "markdown",
   "metadata": {
    "deletable": false,
    "editable": false,
    "nbgrader": {
     "cell_type": "markdown",
     "checksum": "8ef743adfb6e5dc679ddcf3feb4cdcc1",
     "grade": false,
     "grade_id": "cell-b709563be316715f",
     "locked": true,
     "schema_version": 3,
     "solution": false
    }
   },
   "source": [
    "## The End!\n",
    "\n",
    "This is the end of the assignment!\n",
    "\n",
    "Have a look back over your answers, and also make sure to `Restart & Run All` from the kernel menu to double check that everything is working properly. When you are ready, submit on datahub!"
   ]
  },
  {
   "cell_type": "code",
   "execution_count": null,
   "metadata": {},
   "outputs": [],
   "source": []
  }
 ],
 "metadata": {
  "kernelspec": {
   "display_name": "Python 3 (ipykernel)",
   "language": "python",
   "name": "python3"
  },
  "language_info": {
   "codemirror_mode": {
    "name": "ipython",
    "version": 3
   },
   "file_extension": ".py",
   "mimetype": "text/x-python",
   "name": "python",
   "nbconvert_exporter": "python",
   "pygments_lexer": "ipython3",
   "version": "3.9.5"
  }
 },
 "nbformat": 4,
 "nbformat_minor": 2
}
