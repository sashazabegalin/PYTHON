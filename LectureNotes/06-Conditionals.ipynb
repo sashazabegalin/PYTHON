{
 "cells": [
  {
   "cell_type": "markdown",
   "metadata": {},
   "source": [
    "## Conditionals\n",
    "- `if`\n",
    "- `elif`\n",
    "- `else`"
   ]
  },
  {
   "cell_type": "markdown",
   "metadata": {},
   "source": [
    "### Conditional: `if`\n",
    "\n",
    "Conditionals are statements that check for a condition, using the `if` statement, and then only execute a set of code if the conditon evluates as `True`."
   ]
  },
  {
   "cell_type": "code",
   "execution_count": 4,
   "metadata": {},
   "outputs": [
    {
     "name": "stdout",
     "output_type": "stream",
     "text": [
      "This code eecutes if the conditon evaluates as True.\n"
     ]
    }
   ],
   "source": [
    "condition = True\n",
    "\n",
    "if condition:\n",
    "    print('This code executes if the conditon evaluates as True.')"
   ]
  },
  {
   "cell_type": "code",
   "execution_count": 5,
   "metadata": {},
   "outputs": [
    {
     "name": "stdout",
     "output_type": "stream",
     "text": [
      "This code eecutes if the conditon evaluates as True.\n"
     ]
    }
   ],
   "source": [
    "# equivalent to above\n",
    "if condition == True:\n",
    "    print('This code executes if the conditon evaluates as True.')"
   ]
  },
  {
   "cell_type": "code",
   "execution_count": 6,
   "metadata": {},
   "outputs": [],
   "source": [
    "condition = False\n",
    "\n",
    "if condition:\n",
    "    print('This code eecutes if the conditon evaluates as True.')"
   ]
  },
  {
   "cell_type": "markdown",
   "metadata": {},
   "source": [
    "### Conditional: `else`\n",
    "\n",
    "After an `if`, you can use and `else` that will run if the conditonal(s) above have not run."
   ]
  },
  {
   "cell_type": "code",
   "execution_count": 7,
   "metadata": {},
   "outputs": [
    {
     "name": "stdout",
     "output_type": "stream",
     "text": [
      "This code eecutes if the conditon evaluates as False.\n"
     ]
    }
   ],
   "source": [
    "condition = False\n",
    "\n",
    "if condition:\n",
    "    print('This code executes if the conditon evaluates as True.')\n",
    "else:\n",
    "    print('This code executes if the conditon evaluates as False.')"
   ]
  },
  {
   "cell_type": "markdown",
   "metadata": {},
   "source": [
    "### Conditional: `elif`\n",
    "\n",
    "After an `if`, you can have any number of `elif`'s (meaning 'else if') to check other conditions."
   ]
  },
  {
   "cell_type": "code",
   "execution_count": 8,
   "metadata": {},
   "outputs": [
    {
     "name": "stdout",
     "output_type": "stream",
     "text": [
      "This code executes if the conditon_1 did not evaluates as True, but condition_2 evaluates as True.\n"
     ]
    }
   ],
   "source": [
    "condition_1 =  False\n",
    "condition_2 = True\n",
    "\n",
    "if condition_1:\n",
    "    print('This code executes if the conditon_1 evaluates as True.')\n",
    "elif condition_2:\n",
    "    print('This code executes if the conditon_1 did not evaluates as True, but condition_2 evaluates as True.')\n",
    "else:\n",
    "    print('This code executes if both condition_1 and condition_2 evaluate as False.')"
   ]
  },
  {
   "cell_type": "markdown",
   "metadata": {},
   "source": [
    "## `elif` without an `else`\n",
    "\n",
    "An else statement is not required, but if both the `if` and the `elif` conditions are not met (both evaluate as False), then nothing is returned."
   ]
  },
  {
   "cell_type": "code",
   "execution_count": 10,
   "metadata": {},
   "outputs": [],
   "source": [
    "condition_1 =  False\n",
    "condition_2 = False\n",
    "\n",
    "if condition_1:\n",
    "    print('This code executes if the conditon_1 evaluates as True.')\n",
    "elif condition_2:\n",
    "    print('This code executes if the conditon_1 did not evaluates as True, but condition_2 evaluates as True.')"
   ]
  },
  {
   "cell_type": "markdown",
   "metadata": {},
   "source": [
    "## `elif` *after* an `else` does not make sense\n",
    "The order will always be `if-elif-else`... with only the `if` being required. If the `elif` is at the end... it will never be tested, as the `else` will have already returned a vlaue once reached (and thus Python will throw an error)"
   ]
  }
 ],
 "metadata": {
  "interpreter": {
   "hash": "aee8b7b246df8f9039afb4144a1f6fd8d2ca17a180786b69acc140d282b71a49"
  },
  "kernelspec": {
   "display_name": "Python 3.9.9 64-bit",
   "language": "python",
   "name": "python3"
  },
  "language_info": {
   "codemirror_mode": {
    "name": "ipython",
    "version": 3
   },
   "file_extension": ".py",
   "mimetype": "text/x-python",
   "name": "python",
   "nbconvert_exporter": "python",
   "pygments_lexer": "ipython3",
   "version": "3.9.9"
  },
  "orig_nbformat": 4
 },
 "nbformat": 4,
 "nbformat_minor": 2
}
