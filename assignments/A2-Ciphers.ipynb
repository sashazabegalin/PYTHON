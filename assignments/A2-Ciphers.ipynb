{
 "cells": [
  {
   "cell_type": "markdown",
   "metadata": {
    "deletable": false,
    "editable": false,
    "nbgrader": {
     "cell_type": "markdown",
     "checksum": "dcb39e781ecd693b9221b79f89b4de19",
     "grade": false,
     "grade_id": "cell-08eae0a733656950",
     "locked": true,
     "schema_version": 3,
     "solution": false
    }
   },
   "source": [
    "# A2-Ciphers\n",
    "\n",
    "This assignment is out of 8 points, worth 8% of your grade.\n",
    "\n",
    "This assignment covers Conditionals, Collections, and Debugging. It builds up to the application of Ciphers. \n",
    "\n",
    "**PLEASE DO NOT CHANGE THE NAME OF THIS FILE.**\n",
    "\n",
    "**PLEASE DO NOT COPY & PASTE OR DELETE CELLS INLCUDED IN THE ASSIGNMENT.**"
   ]
  },
  {
   "cell_type": "markdown",
   "metadata": {
    "deletable": false,
    "editable": false,
    "nbgrader": {
     "cell_type": "markdown",
     "checksum": "866658745d74cb6ceb093eba58ba856b",
     "grade": false,
     "grade_id": "cell-a58f937c696fa18d",
     "locked": true,
     "schema_version": 3,
     "solution": false
    }
   },
   "source": [
    "## Overview\n",
    "\n",
    "Make sure you delete `raise NotImplementedError()` whenever you see it in the assignment, replacing it with your code for the question. To have the best chance at receiving full credit, be sure your completed assignment passes all the asserts silently. This assignment also has hidden tests - which means that passing all the asserts you see does not guarantee that you have the correct answer! Make sure to double check and re-run your code to make sure it does what you expect, and that the variables you define end up with values you'd expect. "
   ]
  },
  {
   "cell_type": "markdown",
   "metadata": {
    "deletable": false,
    "editable": false,
    "nbgrader": {
     "cell_type": "markdown",
     "checksum": "d7133f6b8a9d8b21c7006f56bd8b3e4e",
     "grade": false,
     "grade_id": "cell-dd736bc1f50ffa9a",
     "locked": true,
     "schema_version": 3,
     "solution": false
    }
   },
   "source": [
    "## Part I - Conditionals"
   ]
  },
  {
   "cell_type": "markdown",
   "metadata": {
    "deletable": false,
    "editable": false,
    "nbgrader": {
     "cell_type": "markdown",
     "checksum": "e96fcf9a58e93e179a5be7f1023b58ca",
     "grade": false,
     "grade_id": "cell-4cdae51d57c2a70a",
     "locked": true,
     "schema_version": 3,
     "solution": false
    }
   },
   "source": [
    "### Q1 - Conditionals With Booleans (0.5 points)\n",
    "\n",
    "Write a function `check_status()` that uses a conditional that takes a single boolean parameter `status` as input. Inside the function:\n",
    "- if `status` evaluates as `True`, set the variable `output` as the string 'GOOD'\n",
    "- else (meaning `status` must evaluate as `False`), set the variable `output` as the string 'BAD'\n",
    "\n",
    "Be sure to `return` `output` from your function."
   ]
  },
  {
   "cell_type": "code",
   "execution_count": 1,
   "metadata": {
    "deletable": false,
    "nbgrader": {
     "cell_type": "code",
     "checksum": "fb6f49c1dc42c719d72515efb3128024",
     "grade": false,
     "grade_id": "cell-d2e812dc1f9a43a6",
     "locked": false,
     "schema_version": 3,
     "solution": true
    }
   },
   "outputs": [],
   "source": [
    "def check_status(status):\n",
    "    if status == True:\n",
    "        output = 'GOOD'\n",
    "    else:\n",
    "        output = 'BAD'\n",
    "    \n",
    "    return output"
   ]
  },
  {
   "cell_type": "code",
   "execution_count": 2,
   "metadata": {},
   "outputs": [],
   "source": [
    "# you can use this cell to test/execute/check your thinking (optional)"
   ]
  },
  {
   "cell_type": "code",
   "execution_count": 3,
   "metadata": {
    "deletable": false,
    "editable": false,
    "nbgrader": {
     "cell_type": "code",
     "checksum": "2e2d70e4e045e20b5ba4777ffc5b4ea9",
     "grade": true,
     "grade_id": "cell-de368a5bcd2db9c1",
     "locked": true,
     "points": 0.25,
     "schema_version": 3,
     "solution": false
    }
   },
   "outputs": [],
   "source": [
    "assert callable(check_status)\n",
    "assert type(check_status(status=True)) == str\n",
    "assert check_status(status=True) == 'GOOD'"
   ]
  },
  {
   "cell_type": "code",
   "execution_count": 4,
   "metadata": {
    "deletable": false,
    "editable": false,
    "nbgrader": {
     "cell_type": "code",
     "checksum": "34ae370ef963809301837ccac568f531",
     "grade": true,
     "grade_id": "cell-60a753f009ed6b1b",
     "locked": true,
     "points": 0.25,
     "schema_version": 3,
     "solution": false
    }
   },
   "outputs": [],
   "source": [
    "assert callable(check_status)\n",
    "assert type(check_status(False)) == str\n",
    "assert check_status(False) == 'BAD'"
   ]
  },
  {
   "cell_type": "markdown",
   "metadata": {
    "deletable": false,
    "editable": false,
    "nbgrader": {
     "cell_type": "markdown",
     "checksum": "1425e9db5502b13b814a910d23e67227",
     "grade": false,
     "grade_id": "cell-7f49689601179e2c",
     "locked": true,
     "schema_version": 3,
     "solution": false
    }
   },
   "source": [
    "### Q2 - Conditionals With Comparisons (0.5 points)\n",
    "\n",
    "Consider a case in which you are running an experiment with multiple groups of subjects, including young subjects and old subjects. \n",
    "\n",
    "Based on the subject's age group, you want to do a different analysis if they are in the young group,.\n",
    "\n",
    "Write a function `change_analysis()`  that takes a single parameter `subj_age`. Inside the function:\n",
    "- Check `if` should check if the variable `subj_age` has the value `'young'` (a string).\n",
    "    - If so, it should set the variable `change` to the value `True` (a boolean)\n",
    "- `else`, the variable `change` should be set to `False` (a boolean)\n",
    "\n",
    "Be sure to `return` the variable `change` from the function"
   ]
  },
  {
   "cell_type": "code",
   "execution_count": 5,
   "metadata": {
    "deletable": false,
    "nbgrader": {
     "cell_type": "code",
     "checksum": "bc7113effaae19188b06e6d629c6569d",
     "grade": false,
     "grade_id": "cell-5fdac280e980848a",
     "locked": false,
     "schema_version": 3,
     "solution": true
    }
   },
   "outputs": [],
   "source": [
    "def change_analysis(subj_age):\n",
    "    if subj_age == 'young':\n",
    "        change = True\n",
    "    else:\n",
    "        change = False\n",
    "        \n",
    "    return change"
   ]
  },
  {
   "cell_type": "code",
   "execution_count": 6,
   "metadata": {},
   "outputs": [],
   "source": [
    "# you can use this cell to test/execute/check your thinking (optional)"
   ]
  },
  {
   "cell_type": "code",
   "execution_count": 7,
   "metadata": {
    "deletable": false,
    "editable": false,
    "nbgrader": {
     "cell_type": "code",
     "checksum": "5b4063dcc9e88665cc3d861d7d9596a0",
     "grade": true,
     "grade_id": "cell-2e59c9f37e0310a5",
     "locked": true,
     "points": 0.25,
     "schema_version": 3,
     "solution": false
    }
   },
   "outputs": [],
   "source": [
    "assert callable(change_analysis)\n",
    "assert type(change_analysis(True)) == bool\n"
   ]
  },
  {
   "cell_type": "code",
   "execution_count": 8,
   "metadata": {
    "deletable": false,
    "editable": false,
    "nbgrader": {
     "cell_type": "code",
     "checksum": "711f55611dc513dc14ec5892965d2e16",
     "grade": true,
     "grade_id": "cell-c4621a021d61b90f",
     "locked": true,
     "points": 0.25,
     "schema_version": 3,
     "solution": false
    }
   },
   "outputs": [],
   "source": [
    "assert callable(change_analysis)\n",
    "assert type(change_analysis(False)) == bool\n"
   ]
  },
  {
   "cell_type": "markdown",
   "metadata": {
    "deletable": false,
    "editable": false,
    "nbgrader": {
     "cell_type": "markdown",
     "checksum": "c091a548a236a97ec23f577dd8bb6666",
     "grade": false,
     "grade_id": "cell-f80c3586226dd7ea",
     "locked": true,
     "schema_version": 3,
     "solution": false
    }
   },
   "source": [
    "### Q3 - Conditionals With Multiple Options (1 point)\n",
    "\n",
    "Sometimes we may need to check multiple conditions, with many (more than two) possibilities.\n",
    "\n",
    "Define a function `check_conditions()` that takes two parameters as input: `check_1` and `check_2`.\n",
    "\n",
    "Within the function, carry out the following operation:\n",
    "- if `check_1` and `check_2` variables are both True, it should set the value of a variable `outcome` to the string 'BOTH'\n",
    "- else if `check_1` is True and `check_2` is False, it should set the value of a variable `outcome` to the string 'ONE'\n",
    "- else if `check_1` is False and `check_2` is True, it should set the value of a variable `outcome` to the string 'TWO'\n",
    "- else (meaning both must be False), it should set the value of a variable `outcome` to the string 'NEITHER'\n",
    "\n",
    "Be sure to `return` `outcome` from the function."
   ]
  },
  {
   "cell_type": "code",
   "execution_count": 9,
   "metadata": {
    "deletable": false,
    "nbgrader": {
     "cell_type": "code",
     "checksum": "c25246b06e83b6a482d34b6947841fbd",
     "grade": false,
     "grade_id": "cell-0cada564ef3bd740",
     "locked": false,
     "schema_version": 3,
     "solution": true
    }
   },
   "outputs": [],
   "source": [
    "def check_conditions(check_1, check_2):\n",
    "    if check_1 and check_2:\n",
    "        outcome = 'BOTH'\n",
    "    elif check_1 and not check_2:\n",
    "        outcome = 'ONE'\n",
    "    elif not check_1 and check_2:\n",
    "        outcome = 'TWO'\n",
    "    else:\n",
    "        outcome = 'NEITHER'\n",
    "    \n",
    "    return outcome"
   ]
  },
  {
   "cell_type": "code",
   "execution_count": 10,
   "metadata": {},
   "outputs": [],
   "source": [
    "# you can use this cell to test/execute/check your thinking (optional)"
   ]
  },
  {
   "cell_type": "code",
   "execution_count": 11,
   "metadata": {
    "deletable": false,
    "editable": false,
    "nbgrader": {
     "cell_type": "code",
     "checksum": "8b17804918531c3158ccc28fa02f23f9",
     "grade": true,
     "grade_id": "cell-7b81b816f5fbd8fc",
     "locked": true,
     "points": 0.25,
     "schema_version": 3,
     "solution": false
    }
   },
   "outputs": [],
   "source": [
    "# Check 'BOTH' case\n",
    "assert callable(check_conditions)\n",
    "assert type(check_conditions(True, True)) == str\n",
    "assert check_conditions(check_1=True, check_2=True) == 'BOTH'"
   ]
  },
  {
   "cell_type": "code",
   "execution_count": 12,
   "metadata": {
    "deletable": false,
    "editable": false,
    "nbgrader": {
     "cell_type": "code",
     "checksum": "58df99d03cc6b73315514ec4f940903b",
     "grade": true,
     "grade_id": "cell-621a9631f8689eb8",
     "locked": true,
     "points": 0.25,
     "schema_version": 3,
     "solution": false
    }
   },
   "outputs": [],
   "source": [
    "# Check 'ONE' case\n",
    "assert check_conditions(True, False) == 'ONE'"
   ]
  },
  {
   "cell_type": "code",
   "execution_count": 13,
   "metadata": {
    "deletable": false,
    "editable": false,
    "nbgrader": {
     "cell_type": "code",
     "checksum": "59b2abd5e6bc108b1009d4640946e54a",
     "grade": true,
     "grade_id": "cell-a01f95735ce601a7",
     "locked": true,
     "points": 0.25,
     "schema_version": 3,
     "solution": false
    }
   },
   "outputs": [],
   "source": [
    "# Check 'TWO' case\n",
    "assert check_conditions(False, True) == 'TWO'"
   ]
  },
  {
   "cell_type": "code",
   "execution_count": 14,
   "metadata": {
    "deletable": false,
    "editable": false,
    "nbgrader": {
     "cell_type": "code",
     "checksum": "c38c993e6ce4518e878f68312fa85121",
     "grade": true,
     "grade_id": "cell-74ded29c5e0ab108",
     "locked": true,
     "points": 0.25,
     "schema_version": 3,
     "solution": false
    }
   },
   "outputs": [],
   "source": [
    "# Check 'NEITHER' case (using hidden test)"
   ]
  },
  {
   "cell_type": "markdown",
   "metadata": {
    "deletable": false,
    "editable": false,
    "nbgrader": {
     "cell_type": "markdown",
     "checksum": "2234d6911ea316035098b7e85ec2c41d",
     "grade": false,
     "grade_id": "cell-f40b5f989923430c",
     "locked": true,
     "schema_version": 3,
     "solution": false
    }
   },
   "source": [
    "### Q4 - Multiple Cases: Experiment Example (1 point)\n",
    "\n",
    "Let's revisit the setup of Q2, in which we wanted to set a variable to indicate if a subject in an experiment was in a particular group, and thus required different processing. In this question we will extend that premise by writing a set of conditionals to mark an interaction between subject's age and score. \n",
    "\n",
    "For example, it is common for behavioral performance to decrease with age. However, some subjects do not seem to show this behavioral deficit with age. Investigating such 'super-agers' could be useful for learning about the cognitive decline of aging.\n",
    "\n",
    "Write a function `determine_ager()` that has two parameters `subj_age` and `score`.\n",
    "\n",
    "Inside the function utilize a conditional that acomplishes the following:\n",
    "- if the variable `subj_age` has the value `old` and the variable `score` is greater than 25:\n",
    "    - set the variable `subj_status` to the string 'Super Ager'\n",
    "    \n",
    "    \n",
    "- else if the variable `subj_age` has the value `old` and the variable `score` is less than or equal to 25:\n",
    "    - set the variable `subj_status` to the string 'Normal Ager'\n",
    "    \n",
    "    \n",
    "- else if the variable `subj_age` has the value `young` and the variable `score` is greater than 25:\n",
    "    - set the variable `subj_status` to the string 'Normal Youth'\n",
    "    \n",
    "    \n",
    "- else if the variable `subj_age` has the value `young` and the variable `score` is less than or equal to 25:\n",
    "    - set the variable `subj_status` to the string 'Bad Youth'\n",
    "    \n",
    "Be sure to `return` `subj_status` from the function"
   ]
  },
  {
   "cell_type": "code",
   "execution_count": 15,
   "metadata": {
    "deletable": false,
    "nbgrader": {
     "cell_type": "code",
     "checksum": "06a0ba77d7858abe4d0e20c413f394a0",
     "grade": false,
     "grade_id": "cell-514a6e20b819dee0",
     "locked": false,
     "schema_version": 3,
     "solution": true
    }
   },
   "outputs": [],
   "source": [
    "def determine_ager(subj_age, score):\n",
    "    if subj_age == 'old' and score > 25:\n",
    "        subj_status = 'Super Ager'\n",
    "    elif subj_age == 'old' and score <= 25:\n",
    "        subj_status = 'Normal Ager'\n",
    "    elif subj_age == 'young' and score > 25:\n",
    "        subj_status = 'Normal Youth'\n",
    "    elif subj_age == 'young' and score <= 25:\n",
    "        subj_status = 'Bad Youth'\n",
    "        \n",
    "    return subj_status\n",
    "            "
   ]
  },
  {
   "cell_type": "code",
   "execution_count": 16,
   "metadata": {},
   "outputs": [],
   "source": [
    "# you can use this cell to test/execute/check your thinking (optional)"
   ]
  },
  {
   "cell_type": "code",
   "execution_count": 17,
   "metadata": {
    "deletable": false,
    "editable": false,
    "nbgrader": {
     "cell_type": "code",
     "checksum": "1c9ae32f3ada6b89864d209fcff49944",
     "grade": true,
     "grade_id": "cell-10e577dabe2f9a4f",
     "locked": true,
     "points": 0.25,
     "schema_version": 3,
     "solution": false
    }
   },
   "outputs": [],
   "source": [
    "subj_age = 'old'\n",
    "score = 28\n",
    "ex1 = determine_ager(subj_age, score)\n",
    "\n",
    "assert callable(determine_ager)\n",
    "assert type(ex1) == str\n",
    "assert ex1 == 'Super Ager'"
   ]
  },
  {
   "cell_type": "code",
   "execution_count": 18,
   "metadata": {
    "deletable": false,
    "editable": false,
    "nbgrader": {
     "cell_type": "code",
     "checksum": "39c019d1bfbd56163913fb4992b7bd10",
     "grade": true,
     "grade_id": "cell-c259aac343bb297a",
     "locked": true,
     "points": 0.25,
     "schema_version": 3,
     "solution": false
    }
   },
   "outputs": [],
   "source": [
    "## Hidden tests 'Normal Ager' case"
   ]
  },
  {
   "cell_type": "code",
   "execution_count": 19,
   "metadata": {
    "deletable": false,
    "editable": false,
    "nbgrader": {
     "cell_type": "code",
     "checksum": "6906f5a4df601f685bfa35a75dd4544d",
     "grade": true,
     "grade_id": "cell-b05b4bec57b61e00",
     "locked": true,
     "points": 0.25,
     "schema_version": 3,
     "solution": false
    }
   },
   "outputs": [],
   "source": [
    "## Hidden tests 'Normal Youth' case"
   ]
  },
  {
   "cell_type": "code",
   "execution_count": 20,
   "metadata": {
    "deletable": false,
    "editable": false,
    "nbgrader": {
     "cell_type": "code",
     "checksum": "c8d1962db4daabae7e888e651f79842c",
     "grade": true,
     "grade_id": "cell-0cc09b0683fdfd57",
     "locked": true,
     "points": 0.25,
     "schema_version": 3,
     "solution": false
    }
   },
   "outputs": [],
   "source": [
    "## Hidden tests 'Bad Youth' case"
   ]
  },
  {
   "cell_type": "markdown",
   "metadata": {
    "deletable": false,
    "editable": false,
    "nbgrader": {
     "cell_type": "markdown",
     "checksum": "92717529c90816800ea5985d3b633ce9",
     "grade": false,
     "grade_id": "cell-5a2d627976d69698",
     "locked": true,
     "schema_version": 3,
     "solution": false
    }
   },
   "source": [
    "### Q5 - Creating a Calculator (1.25 points)\n",
    "\n",
    "Finally (for this section), we will write a flexible calculator that performs multiple operations (addition, subtraction, multiplication, and division) on pairs of numbers. \n",
    "\n",
    "To do so, define a function `calculate()` with a three parameters:\n",
    "- `operation` | The value specified for the `operation` parameter on execution will indicate which operation to perform\n",
    "- `num1` | The first value to be used in the calculation\n",
    "- `num2` | The second value to be used in the calculation\n",
    "\n",
    "The calculator will assign the output of its calculation to a variable called `answer`, which will be `return`ed from the function. \n",
    "\n",
    "Specifically, create the `calculate()` function such that:\n",
    "- if `operation` has the value 'add', then `answer` gets set as the sum of `num1` and `num2`\n",
    "- elif `operation` has the value 'subtract', then `answer` gets set as the difference of `num2` from `num1`\n",
    "- elif `operation` has the value 'multiply', then `answer` gets set as the product of `num1` and `num2`\n",
    "- elif `operation` has the value 'divide', then `answer` gets set as the quotient of `num1` divided by `num2`\n",
    "- else `answer` gets set as the value 'not a thing'\n",
    "\n",
    "For an example, if we were to execute our function as follows:\n",
    "\n",
    "```python\n",
    "output = calculate(operation='multiply', num1=2, num2=3)\n",
    "```\n",
    "\n",
    "we would expect `output` to store `6`."
   ]
  },
  {
   "cell_type": "code",
   "execution_count": 21,
   "metadata": {
    "deletable": false,
    "nbgrader": {
     "cell_type": "code",
     "checksum": "5d6567bf85a659eda73e4e9f4dbd6b73",
     "grade": false,
     "grade_id": "cell-d44d4aa343270410",
     "locked": false,
     "schema_version": 3,
     "solution": true
    }
   },
   "outputs": [],
   "source": [
    "def calculate(operation, num1, num2):\n",
    "    if operation == 'add':\n",
    "        answer = num1 + num2\n",
    "    elif operation == 'subtract':\n",
    "        answer = num1 - num2\n",
    "    elif operation == 'multiply':\n",
    "        answer = num1 * num2\n",
    "    elif operation == 'divide':\n",
    "        answer = num1 / num2\n",
    "    else:\n",
    "        answer = 'not a thing'\n",
    "        \n",
    "    return answer"
   ]
  },
  {
   "cell_type": "code",
   "execution_count": 22,
   "metadata": {},
   "outputs": [],
   "source": [
    "# you can use this cell to test/execute/check your thinking (optional)"
   ]
  },
  {
   "cell_type": "code",
   "execution_count": 23,
   "metadata": {
    "deletable": false,
    "editable": false,
    "nbgrader": {
     "cell_type": "code",
     "checksum": "7d9fa0a4e573ce4deef52e6f3865c7ba",
     "grade": true,
     "grade_id": "cell-63991f35fb0fa2b7",
     "locked": true,
     "points": 0.25,
     "schema_version": 3,
     "solution": false
    }
   },
   "outputs": [],
   "source": [
    "# test addition\n",
    "assert callable(calculate)\n",
    "assert type(calculate(operation='add', num1=2, num2=3)) == int\n",
    "assert calculate(operation='add', num1=2, num2=3) == 5\n",
    "assert calculate(operation='add', num1=10, num2=-5) == 5"
   ]
  },
  {
   "cell_type": "code",
   "execution_count": 24,
   "metadata": {
    "deletable": false,
    "editable": false,
    "nbgrader": {
     "cell_type": "code",
     "checksum": "311a47af631cc574481bf16ab6d541a0",
     "grade": true,
     "grade_id": "cell-df854472375eaaea",
     "locked": true,
     "points": 0.25,
     "schema_version": 3,
     "solution": false
    }
   },
   "outputs": [],
   "source": [
    "# test subtraction\n",
    "assert calculate(operation='subtract', num1=2, num2=3) == -1\n",
    "assert calculate(operation='subtract', num1=5, num2=5) == 0"
   ]
  },
  {
   "cell_type": "code",
   "execution_count": 25,
   "metadata": {
    "deletable": false,
    "editable": false,
    "nbgrader": {
     "cell_type": "code",
     "checksum": "739f2be8a537973b91e4b0373ee2cfa4",
     "grade": true,
     "grade_id": "cell-5cb26332c714b7b6",
     "locked": true,
     "points": 0.25,
     "schema_version": 3,
     "solution": false
    }
   },
   "outputs": [],
   "source": [
    "## Hidden tests to check multiplication operation is correct"
   ]
  },
  {
   "cell_type": "code",
   "execution_count": 26,
   "metadata": {
    "deletable": false,
    "editable": false,
    "nbgrader": {
     "cell_type": "code",
     "checksum": "2e154fa532f481fc3e9de92f24300dd8",
     "grade": true,
     "grade_id": "cell-515fa93f1045b72f",
     "locked": true,
     "points": 0.25,
     "schema_version": 3,
     "solution": false
    }
   },
   "outputs": [],
   "source": [
    "## Hidden tests to check division operation is correct"
   ]
  },
  {
   "cell_type": "code",
   "execution_count": 27,
   "metadata": {
    "deletable": false,
    "editable": false,
    "nbgrader": {
     "cell_type": "code",
     "checksum": "66110668b3a86eeff6bb9046dd371657",
     "grade": true,
     "grade_id": "cell-544aefbe440ec548",
     "locked": true,
     "points": 0.25,
     "schema_version": 3,
     "solution": false
    }
   },
   "outputs": [],
   "source": [
    "## Hidden test to check unrecognized operation"
   ]
  },
  {
   "cell_type": "markdown",
   "metadata": {
    "deletable": false,
    "editable": false,
    "nbgrader": {
     "cell_type": "markdown",
     "checksum": "09adb41d4425bf805cd78c2955f8dbcd",
     "grade": false,
     "grade_id": "cell-a11c701a459782ac",
     "locked": true,
     "schema_version": 3,
     "solution": false
    }
   },
   "source": [
    "## Part 2: Collection Types\n",
    "\n",
    "This part covers defining and working with the collection types: lists, tuples, and dictionaries. "
   ]
  },
  {
   "cell_type": "markdown",
   "metadata": {
    "deletable": false,
    "editable": false,
    "nbgrader": {
     "cell_type": "markdown",
     "checksum": "c9cfe0e755d26992f0645be7cf7d16c0",
     "grade": false,
     "grade_id": "cell-c53af2db4923d356",
     "locked": true,
     "schema_version": 3,
     "solution": false
    }
   },
   "source": [
    "### Q6 - Lists (0.25 points)\n",
    "\n",
    "Below are the results of a hypothetical experiment of measuring the height of a class in a land far away:\n",
    "\n",
    "- Vanessa is 5.6 feet tall\n",
    "- Sarah is 5.4 feet tall\n",
    "- Demi is 6.1 feet tall\n",
    "- George is 5.9 feet tall\n",
    "- Dawn is 5.7 feet tall\n",
    "\n",
    "Create a list called `class_names` and fill it with the names of each person in the class (as strings). \n",
    "\n",
    "Create another list called `class_heights` and fill it with the heights of each person in the class (as floats). \n",
    "\n",
    "Remember that the order of lists and the spelling of the names matter; be sure to keep the order of items the same as listed above and the spelling the same!"
   ]
  },
  {
   "cell_type": "code",
   "execution_count": 28,
   "metadata": {
    "deletable": false,
    "nbgrader": {
     "cell_type": "code",
     "checksum": "b5ee8a7d3fd526f06ef188d4d7371f9f",
     "grade": false,
     "grade_id": "cell-653ac226fd7e65c4",
     "locked": false,
     "schema_version": 3,
     "solution": true
    }
   },
   "outputs": [],
   "source": [
    "class_names = ['Vanessa', 'Sarah', 'Demi', 'George', 'Dawn']\n",
    "class_heights = [5.6, 5.4, 6.1, 5.9, 5.7]"
   ]
  },
  {
   "cell_type": "code",
   "execution_count": 29,
   "metadata": {
    "deletable": false,
    "editable": false,
    "nbgrader": {
     "cell_type": "code",
     "checksum": "cced7bdc10a9092c744fb20936abd48e",
     "grade": true,
     "grade_id": "cell-7ed89774a93617f3",
     "locked": true,
     "points": 0.25,
     "schema_version": 3,
     "solution": false
    }
   },
   "outputs": [],
   "source": [
    "# Check both lists are defined\n",
    "assert isinstance(class_names, list)\n",
    "assert isinstance(class_heights, list)\n",
    "\n",
    "# Check both lists have the same length, and are of length 5\n",
    "assert len(class_names) == len(class_heights) == 5\n"
   ]
  },
  {
   "cell_type": "markdown",
   "metadata": {
    "deletable": false,
    "editable": false,
    "nbgrader": {
     "cell_type": "markdown",
     "checksum": "b1bd1716906f10b1455a5b55803dfa06",
     "grade": false,
     "grade_id": "cell-3d40595d954cc6c6",
     "locked": true,
     "schema_version": 3,
     "solution": false
    }
   },
   "source": [
    "Now that we have the data stored in lists, we will explore other collection types. "
   ]
  },
  {
   "cell_type": "markdown",
   "metadata": {
    "deletable": false,
    "editable": false,
    "nbgrader": {
     "cell_type": "markdown",
     "checksum": "3f3375748a67f5c8d4a21646899c4d50",
     "grade": false,
     "grade_id": "cell-1a926ed978b6ea69",
     "locked": true,
     "schema_version": 3,
     "solution": false
    }
   },
   "source": [
    "### Q7 - Tuples (0.25 points)\n",
    "\n",
    "Create a tuple that contains just the names of the people in the experiment. Call this tuple `names_tuple`. "
   ]
  },
  {
   "cell_type": "code",
   "execution_count": 30,
   "metadata": {
    "deletable": false,
    "nbgrader": {
     "cell_type": "code",
     "checksum": "95056d9685e5ff805ffc0b08f959c14e",
     "grade": false,
     "grade_id": "cell-fb210f0469973e5a",
     "locked": false,
     "schema_version": 3,
     "solution": true
    }
   },
   "outputs": [],
   "source": [
    "names_tuple = tuple(class_names)"
   ]
  },
  {
   "cell_type": "code",
   "execution_count": 31,
   "metadata": {
    "deletable": false,
    "editable": false,
    "nbgrader": {
     "cell_type": "code",
     "checksum": "a4ba4be6d9088b85744165a1d157d1b4",
     "grade": true,
     "grade_id": "cell-5969238aefebc1dd",
     "locked": true,
     "points": 0.25,
     "schema_version": 3,
     "solution": false
    }
   },
   "outputs": [],
   "source": [
    "assert isinstance(names_tuple, tuple)\n"
   ]
  },
  {
   "cell_type": "markdown",
   "metadata": {
    "deletable": false,
    "editable": false,
    "nbgrader": {
     "cell_type": "markdown",
     "checksum": "e83e3c202489a75242dc47b22d94f8c0",
     "grade": false,
     "grade_id": "cell-e98a1bc50367e340",
     "locked": true,
     "schema_version": 3,
     "solution": false
    }
   },
   "source": [
    "### Q8 - Dictionaries (0.25 points)\n",
    "\n",
    "Next, store the data in a dictionary where each student's name is the key and their height is the value.\n",
    "\n",
    "Call this dictionary `results_dictionary`. "
   ]
  },
  {
   "cell_type": "code",
   "execution_count": 32,
   "metadata": {
    "deletable": false,
    "nbgrader": {
     "cell_type": "code",
     "checksum": "60a2ca6b4ef3375e173715fa51478acd",
     "grade": false,
     "grade_id": "cell-d1afd11046ada78c",
     "locked": false,
     "schema_version": 3,
     "solution": true
    }
   },
   "outputs": [],
   "source": [
    "# zip() is a python method where it 'zips' up two lists (or tuples) togther into a key:val association\n",
    "results_dictionary = dict(zip(names_tuple, class_heights)) "
   ]
  },
  {
   "cell_type": "code",
   "execution_count": 33,
   "metadata": {
    "deletable": false,
    "editable": false,
    "nbgrader": {
     "cell_type": "code",
     "checksum": "81b2ae6eaf0f9c80e274717815489de3",
     "grade": true,
     "grade_id": "cell-a823da59fce8614b",
     "locked": true,
     "points": 0.25,
     "schema_version": 3,
     "solution": false
    }
   },
   "outputs": [],
   "source": [
    "assert isinstance(results_dictionary, dict)\n"
   ]
  },
  {
   "cell_type": "markdown",
   "metadata": {
    "deletable": false,
    "editable": false,
    "nbgrader": {
     "cell_type": "markdown",
     "checksum": "1a4b44dcdb730b78f3dc6d3a9e00b68a",
     "grade": false,
     "grade_id": "cell-0b5c5d936d63f444",
     "locked": true,
     "schema_version": 3,
     "solution": false
    }
   },
   "source": [
    "### Q9 - Lists of Lists (0.5 points)\n",
    "\n",
    "You can also make lists that are filled with lists! List-ception. \n",
    "\n",
    "First, create three different lists:\n",
    "- A list called `string_list` that contains three strings (can be any strings)\n",
    "- A list called `number_list` that contains three numbers (can be any numbers - int or float)\n",
    "- A list called `boolean_list` that contains three boolean (can be any booleans)\n",
    "\n",
    "Then, create a new list, called `nested_list` which contains the three lists you created above (in the order specified in the above bullet points). "
   ]
  },
  {
   "cell_type": "code",
   "execution_count": 34,
   "metadata": {
    "deletable": false,
    "nbgrader": {
     "cell_type": "code",
     "checksum": "0029582236e07166f8ffd190931519a3",
     "grade": false,
     "grade_id": "cell-49a40611dcdbbea0",
     "locked": false,
     "schema_version": 3,
     "solution": true
    }
   },
   "outputs": [],
   "source": [
    "string_list = ['Sasha', 'Vladimir', 'Zabegalin']\n",
    "number_list = [6, 14, 2000]\n",
    "boolean_list = [True, False, True]\n",
    "\n",
    "nested_list = [string_list, number_list, boolean_list]"
   ]
  },
  {
   "cell_type": "code",
   "execution_count": 35,
   "metadata": {
    "deletable": false,
    "editable": false,
    "nbgrader": {
     "cell_type": "code",
     "checksum": "6b951d315bc79e58ee9eadbdce5f11d0",
     "grade": true,
     "grade_id": "cell-51ffc8b55e7f36fc",
     "locked": true,
     "points": 0.25,
     "schema_version": 3,
     "solution": false
    }
   },
   "outputs": [],
   "source": [
    "assert isinstance(string_list, list)\n",
    "assert len(string_list) == 3\n",
    "assert isinstance(string_list[0], str)\n",
    "\n",
    "assert isinstance(number_list, list)\n",
    "assert len(number_list) == 3\n",
    "assert isinstance(number_list[0], int) or isinstance(number_list[0], float)\n",
    "\n",
    "assert isinstance(boolean_list, list)\n",
    "assert len(boolean_list) == 3\n",
    "assert isinstance(boolean_list[0], bool)"
   ]
  },
  {
   "cell_type": "code",
   "execution_count": 36,
   "metadata": {
    "deletable": false,
    "editable": false,
    "nbgrader": {
     "cell_type": "code",
     "checksum": "9930f91b0dee937a14b3d0ea7512bc27",
     "grade": true,
     "grade_id": "cell-04845071d9603b3d",
     "locked": true,
     "points": 0.25,
     "schema_version": 3,
     "solution": false
    }
   },
   "outputs": [],
   "source": [
    "assert isinstance(nested_list, list)\n",
    "assert len(nested_list) == 3\n",
    "assert isinstance(nested_list[0], list)"
   ]
  },
  {
   "cell_type": "markdown",
   "metadata": {
    "deletable": false,
    "editable": false,
    "nbgrader": {
     "cell_type": "markdown",
     "checksum": "53549349754b340031829754789fc437",
     "grade": false,
     "grade_id": "cell-e9aede81e57b6dfe",
     "locked": true,
     "schema_version": 3,
     "solution": false
    }
   },
   "source": [
    "### Q10 - Indexing (0.5 points)\n",
    "\n",
    "Do the following *using indexing*:\n",
    "- Store the first value in `list_1` to `index_1`\n",
    "- Store the third value from the end of `list_2` to `index_2`\n",
    "- Store the last three values of `list_4` to `index_3` \n",
    "- Store the first three values of `list_3` to `index_4`\n",
    "\n",
    "Notes: \n",
    "- Values must be stored in the same order they appear in the original list in your output.\n",
    "- Be sure to execute the cell below to define the lists prior to referencing them in your answer."
   ]
  },
  {
   "cell_type": "code",
   "execution_count": 37,
   "metadata": {
    "deletable": false,
    "editable": false,
    "nbgrader": {
     "cell_type": "code",
     "checksum": "64c7caa05b89fc1857516360dda6ec05",
     "grade": false,
     "grade_id": "cell-3793759b4aa62a90",
     "locked": true,
     "schema_version": 3,
     "solution": false
    }
   },
   "outputs": [],
   "source": [
    "# For Q10 & Q11, the following lists are provided for you\n",
    "list_1 = [10, 20, 30, 40]\n",
    "list_2 = [13, 15, 17, 19, 21, 23]\n",
    "list_3 = [1, 2, 3, 4, 5, 6, 7, 8, 9, 10, 11]\n",
    "list_4 = [21, 9, 98, 289, 938]"
   ]
  },
  {
   "cell_type": "code",
   "execution_count": 38,
   "metadata": {
    "deletable": false,
    "nbgrader": {
     "cell_type": "code",
     "checksum": "fd77c9e18b443390fee43cbcd6bccd19",
     "grade": false,
     "grade_id": "cell-650e61f820451347",
     "locked": false,
     "schema_version": 3,
     "solution": true
    }
   },
   "outputs": [
    {
     "name": "stdout",
     "output_type": "stream",
     "text": [
      "[1, 2, 3]\n"
     ]
    }
   ],
   "source": [
    "index_1 = list_1[0]\n",
    "index_2 = list_2[-3]\n",
    "index_3 = list_4[2:5]\n",
    "index_4 = list_3[:3]\n",
    "\n",
    "print(index_4)"
   ]
  },
  {
   "cell_type": "code",
   "execution_count": 39,
   "metadata": {
    "deletable": false,
    "editable": false,
    "nbgrader": {
     "cell_type": "code",
     "checksum": "978196c3d4b0e816f67c1a53dcc43e39",
     "grade": true,
     "grade_id": "cell-2468c24a17df0b96",
     "locked": true,
     "points": 0.125,
     "schema_version": 3,
     "solution": false
    }
   },
   "outputs": [],
   "source": [
    "assert isinstance(index_1, int)\n"
   ]
  },
  {
   "cell_type": "code",
   "execution_count": 40,
   "metadata": {
    "deletable": false,
    "editable": false,
    "nbgrader": {
     "cell_type": "code",
     "checksum": "aaaa20059fe9cf408c11c371373eabb7",
     "grade": true,
     "grade_id": "cell-d2488aa0f0a84e65",
     "locked": true,
     "points": 0.125,
     "schema_version": 3,
     "solution": false
    }
   },
   "outputs": [],
   "source": [
    "assert isinstance(index_2, int)\n"
   ]
  },
  {
   "cell_type": "code",
   "execution_count": 41,
   "metadata": {
    "deletable": false,
    "editable": false,
    "nbgrader": {
     "cell_type": "code",
     "checksum": "1d4819f28d3574ba132dd9db91daeebb",
     "grade": true,
     "grade_id": "cell-3ae0d083dd79537d",
     "locked": true,
     "points": 0.125,
     "schema_version": 3,
     "solution": false
    }
   },
   "outputs": [],
   "source": [
    "assert isinstance(index_3, list)\n",
    "assert len(index_3) == 3\n"
   ]
  },
  {
   "cell_type": "code",
   "execution_count": 42,
   "metadata": {
    "deletable": false,
    "editable": false,
    "nbgrader": {
     "cell_type": "code",
     "checksum": "4901e6087adf446b45a8c4477fab3a8f",
     "grade": true,
     "grade_id": "cell-f591dd9f036b0ffe",
     "locked": true,
     "points": 0.125,
     "schema_version": 3,
     "solution": false
    }
   },
   "outputs": [],
   "source": [
    "assert isinstance(index_4, list)\n",
    "assert len(index_4) == 3\n"
   ]
  },
  {
   "cell_type": "markdown",
   "metadata": {
    "deletable": false,
    "editable": false,
    "nbgrader": {
     "cell_type": "markdown",
     "checksum": "2b1edbda848bb953ff8d228363fb7528",
     "grade": false,
     "grade_id": "cell-c8d61ad2ee7afecd",
     "locked": true,
     "schema_version": 3,
     "solution": false
    }
   },
   "source": [
    "### Q11 - Comparisons using Indexing (0.5 points)\n",
    "\n",
    "Do the following comparisons *using indexing*, storing the output in the variable at left:\n",
    "- `comp_result_1` | Determine if the third value of `list_1` is one of the last three values in `list_2`\n",
    "- `comp_result_2` | Determine if the second value of `list_4` is greater than the third value in `list_3`\n",
    "- `comp_result_3` | Determine if the last value of `list_3` is less than the second value in `list_2`\n",
    "- `comp_result_4` | Determine if the second value of `list_1` multiplied by the fifth value of `list_3` is less than the second to last value in `list_2`\n",
    "    \n",
    "Keep in mind that you are storing the result of a comparison to a variable, so resulting variables should all be booleans. "
   ]
  },
  {
   "cell_type": "code",
   "execution_count": 43,
   "metadata": {
    "deletable": false,
    "nbgrader": {
     "cell_type": "code",
     "checksum": "890fcf70cc9ce4598869c78f6a7d3d2c",
     "grade": false,
     "grade_id": "cell-58d83066fbe5dfa8",
     "locked": false,
     "schema_version": 3,
     "solution": true
    }
   },
   "outputs": [],
   "source": [
    "comp_result_1 = list_1[2] in list_2[-1: -3]\n",
    "comp_result_2 = list_4[1] > list_3[2]\n",
    "comp_result_3 = list_3[-1] < list_2[1]\n",
    "comp_result_4 = (list_1[1] * list_3[4]) <  list_2[-2]"
   ]
  },
  {
   "cell_type": "code",
   "execution_count": 44,
   "metadata": {
    "deletable": false,
    "editable": false,
    "nbgrader": {
     "cell_type": "code",
     "checksum": "c8b2398b1419a3e78dfe46dd8b1616c4",
     "grade": true,
     "grade_id": "cell-2209a4edc72a8364",
     "locked": true,
     "points": 0.125,
     "schema_version": 3,
     "solution": false
    }
   },
   "outputs": [],
   "source": [
    "assert isinstance(comp_result_1, bool)\n"
   ]
  },
  {
   "cell_type": "code",
   "execution_count": 45,
   "metadata": {
    "deletable": false,
    "editable": false,
    "nbgrader": {
     "cell_type": "code",
     "checksum": "b826361ceb49f846d30f34c8bcd1441f",
     "grade": true,
     "grade_id": "cell-6353d9279a80e98f",
     "locked": true,
     "points": 0.125,
     "schema_version": 3,
     "solution": false
    }
   },
   "outputs": [],
   "source": [
    "assert isinstance(comp_result_2, bool)\n"
   ]
  },
  {
   "cell_type": "code",
   "execution_count": 46,
   "metadata": {
    "deletable": false,
    "editable": false,
    "nbgrader": {
     "cell_type": "code",
     "checksum": "9789b583d89d4d1e08a3eba0b7cfd62d",
     "grade": true,
     "grade_id": "cell-d75011cb18874b17",
     "locked": true,
     "points": 0.125,
     "schema_version": 3,
     "solution": false
    }
   },
   "outputs": [],
   "source": [
    "assert isinstance(comp_result_3, bool)\n"
   ]
  },
  {
   "cell_type": "code",
   "execution_count": 47,
   "metadata": {
    "deletable": false,
    "editable": false,
    "nbgrader": {
     "cell_type": "code",
     "checksum": "fa7179fe24f0b91396fc5999c911a43a",
     "grade": true,
     "grade_id": "cell-244b969301ac73e8",
     "locked": true,
     "points": 0.125,
     "schema_version": 3,
     "solution": false
    }
   },
   "outputs": [],
   "source": [
    "assert isinstance(comp_result_4, bool)\n"
   ]
  },
  {
   "cell_type": "markdown",
   "metadata": {
    "deletable": false,
    "editable": false,
    "nbgrader": {
     "cell_type": "markdown",
     "checksum": "c07cf1a00869924cb0e598c941e03e96",
     "grade": false,
     "grade_id": "cell-ad7046936e9e00e4",
     "locked": true,
     "schema_version": 3,
     "solution": false
    }
   },
   "source": [
    "## Part 3:  Ciphers\n",
    "\n",
    "This part is an application of all the tools we have covered so far, to the problem of creating and using ciphers. \n",
    "\n",
    "A cipher is a procedure for encoding and decoding secret messages (or encrypted data). \n",
    "\n",
    "To work on this application, we are going to need to use functions and operators. \n",
    "\n",
    "It also uses concepts and ideas from encoding and decoding - and in particular the operators `ord` and `chr`. "
   ]
  },
  {
   "cell_type": "code",
   "execution_count": 48,
   "metadata": {
    "deletable": false,
    "editable": false,
    "nbgrader": {
     "cell_type": "code",
     "checksum": "4e2092fb649ae06ac2f76fe1d890729a",
     "grade": false,
     "grade_id": "cell-68ddb79404b001e6",
     "locked": true,
     "schema_version": 3,
     "solution": false
    }
   },
   "outputs": [
    {
     "name": "stdout",
     "output_type": "stream",
     "text": [
      "Original Message:\t Hello from Prof\n",
      "Encoded Message:\t ĐĭĴĴķèĮĺķĵèĜķĵöĮ\n",
      "Decoded Message:\t Hello from Prof\n"
     ]
    }
   ],
   "source": [
    "# Example / outline of writing a cipher\n",
    "#   The following shows a layout of writing a cipher.\n",
    "#   You will be writing code to actually do the encoding / decoding.\n",
    "\n",
    "# Create a message\n",
    "original_message = 'Hello from Prof'\n",
    "print('Original Message:\\t', original_message)\n",
    "\n",
    "# First, Apply Encoding Code, to convert to an encoded message\n",
    "encoded = 'ĐĭĴĴķèĮĺķĵèĜķĵöĮ'\n",
    "print('Encoded Message:\\t', encoded)\n",
    "\n",
    "# Then, Apply Decoding Code, to decode into an interpretable message\n",
    "decoded = 'Hello from Prof'\n",
    "print('Decoded Message:\\t', decoded)"
   ]
  },
  {
   "cell_type": "markdown",
   "metadata": {
    "deletable": false,
    "editable": false,
    "nbgrader": {
     "cell_type": "markdown",
     "checksum": "9ae3057dbf41d45db92573ca368c08bc",
     "grade": false,
     "grade_id": "cell-ab7b89763863cab9",
     "locked": true,
     "schema_version": 3,
     "solution": false
    }
   },
   "source": [
    "### Q12 - Creating an Encoder (0.25 points)\n",
    "\n",
    "Write a function `encoder()` to encode a character from its input character into its secret message character.\n",
    "\n",
    "Your function will take two parameters:\n",
    "- `char` | The input character to be encoded (str)\n",
    "- `key` | The key to be used during encoding (int; default: 200)\n",
    "\n",
    "Within the function, convert `char` to another character `encoded_char`, using the following:\n",
    "- Get the unicode code point for the `char` (using `ord`)\n",
    "- Add the value of `key` to that code point (which should be an int)\n",
    "- Convert this new int back to a character (using `chr`).\n",
    "\n",
    "Be sure to `return` `encoded_char` from the function"
   ]
  },
  {
   "cell_type": "code",
   "execution_count": 49,
   "metadata": {
    "deletable": false,
    "nbgrader": {
     "cell_type": "code",
     "checksum": "7a6f27fae4e1041565911dd5afddd496",
     "grade": false,
     "grade_id": "cell-d77bc7ed64441ebc",
     "locked": false,
     "schema_version": 3,
     "solution": true
    }
   },
   "outputs": [],
   "source": [
    "def encoder(char, key=200):\n",
    "    encoded_char = chr(ord(char) + key)\n",
    "    return encoded_char"
   ]
  },
  {
   "cell_type": "code",
   "execution_count": 50,
   "metadata": {},
   "outputs": [
    {
     "name": "stdout",
     "output_type": "stream",
     "text": [
      "İ\n",
      "ĭ\n",
      "Ĵ\n",
      "Ĵ\n",
      "ķ\n"
     ]
    }
   ],
   "source": [
    "# you can use this cell to test/execute/check your thinking (optional)\n",
    "print(encoder('h'))\n",
    "print(encoder('e'))\n",
    "print(encoder('l'))\n",
    "print(encoder('l'))\n",
    "print(encoder('o'))"
   ]
  },
  {
   "cell_type": "code",
   "execution_count": 51,
   "metadata": {
    "deletable": false,
    "editable": false,
    "nbgrader": {
     "cell_type": "code",
     "checksum": "8117d61bf6720d17566fe4d45f4d895a",
     "grade": true,
     "grade_id": "cell-8dbc526034a66ab8",
     "locked": true,
     "points": 0.1,
     "schema_version": 3,
     "solution": false
    }
   },
   "outputs": [],
   "source": [
    "# test encoder with default value for key\n",
    "assert encoder('h') == 'İ'\n",
    "assert encoder('e') == 'ĭ'\n",
    "assert encoder('l') == 'Ĵ'\n",
    "assert encoder('l') == 'Ĵ'\n",
    "assert encoder('o') == 'ķ'"
   ]
  },
  {
   "cell_type": "code",
   "execution_count": 52,
   "metadata": {
    "deletable": false,
    "editable": false,
    "nbgrader": {
     "cell_type": "code",
     "checksum": "e5e8e8b9ad0495885a820501626928a2",
     "grade": true,
     "grade_id": "cell-fb95b9e70589f512",
     "locked": true,
     "points": 0.15,
     "schema_version": 3,
     "solution": false
    }
   },
   "outputs": [],
   "source": [
    "# hidden test to check for functionality with other values for key"
   ]
  },
  {
   "cell_type": "markdown",
   "metadata": {
    "deletable": false,
    "editable": false,
    "nbgrader": {
     "cell_type": "markdown",
     "checksum": "c846c3d2eccc897fb0bc3fbc06f458eb",
     "grade": false,
     "grade_id": "cell-be1de673d67eba1e",
     "locked": true,
     "schema_version": 3,
     "solution": false
    }
   },
   "source": [
    "### Q13 - Decoder (0.25 points)\n",
    "\n",
    "Write a function `decoder()` to decode a secretly-encoded character back to its original character.\n",
    "\n",
    "Your function will take two parameters:\n",
    "- `encoded_char` | The enoded character to be decoded (str)\n",
    "- `key` | The key to be used during encoding (int; default: 200)\n",
    "\n",
    "Within the function, convert `encoded_char` back to `char` by:\n",
    "- Getting the unicode code point for `encoded_char` (using `ord`)\n",
    "- Subtracting the value of `key` from that code point (which should be an int)\n",
    "    - This undoes the secret encoding of the character, getting back to the original value\n",
    "- Convert this new int back to a character (using `chr`).\n",
    "\n",
    "The decoded character should be stored in `char`, which should be `return`ed from the function.\n",
    "\n",
    "Note that the code to answer this question should look very similar to how you answered the encoding question. In fact, you can even copy over the encoding code, and make some small changes to make it function as a decoder. "
   ]
  },
  {
   "cell_type": "code",
   "execution_count": 53,
   "metadata": {
    "deletable": false,
    "nbgrader": {
     "cell_type": "code",
     "checksum": "f33775d942444c6c2d9700148a53a248",
     "grade": false,
     "grade_id": "cell-b629dac4beccd5f1",
     "locked": false,
     "schema_version": 3,
     "solution": true
    }
   },
   "outputs": [],
   "source": [
    "def decoder(encoded_char, key=200):\n",
    "    char = chr(ord(encoded_char) - key)\n",
    "    return char"
   ]
  },
  {
   "cell_type": "code",
   "execution_count": 54,
   "metadata": {},
   "outputs": [
    {
     "name": "stdout",
     "output_type": "stream",
     "text": [
      "h\n",
      "e\n",
      "l\n",
      "l\n",
      "o\n"
     ]
    }
   ],
   "source": [
    "# you can use this cell to test/execute/check your thinking (optional)\n",
    "print(decoder('İ'))\n",
    "print(decoder('ĭ'))\n",
    "print(decoder('Ĵ'))\n",
    "print(decoder('Ĵ'))\n",
    "print(decoder('ķ'))"
   ]
  },
  {
   "cell_type": "code",
   "execution_count": 55,
   "metadata": {
    "deletable": false,
    "editable": false,
    "nbgrader": {
     "cell_type": "code",
     "checksum": "4edbdae2ae0f3e158e9de0b18295427a",
     "grade": true,
     "grade_id": "cell-ddf1c25663771ad8",
     "locked": true,
     "points": 0.1,
     "schema_version": 3,
     "solution": false
    }
   },
   "outputs": [],
   "source": [
    "# tests decoder with default key value\n",
    "assert decoder('İ') == 'h'\n",
    "assert decoder('ĭ') == 'e'\n",
    "assert decoder('Ĵ') == 'l'\n",
    "assert decoder('Ĵ') == 'l'\n",
    "assert decoder('ķ') == 'o'"
   ]
  },
  {
   "cell_type": "code",
   "execution_count": 56,
   "metadata": {
    "deletable": false,
    "editable": false,
    "nbgrader": {
     "cell_type": "code",
     "checksum": "672d1cdd51a99c35f911769ea691dc57",
     "grade": true,
     "grade_id": "cell-25981e96494c9450",
     "locked": true,
     "points": 0.15,
     "schema_version": 3,
     "solution": false
    }
   },
   "outputs": [],
   "source": [
    "# hidden test to check for functionality with other values for key"
   ]
  },
  {
   "cell_type": "markdown",
   "metadata": {
    "deletable": false,
    "editable": false,
    "nbgrader": {
     "cell_type": "markdown",
     "checksum": "34b2e9273587758b7a0403b79ff4326c",
     "grade": false,
     "grade_id": "cell-33767095feda58a6",
     "locked": true,
     "schema_version": 3,
     "solution": false
    }
   },
   "source": [
    "### Using a Custom Encoder\n",
    "\n",
    "The encoder & decoder we created above is built on conversions based on manipulating unicode code points.\n",
    "\n",
    "If a potential attacker wanted to decode our messages, and happened to know we were using this approach, there are some relatively simple ways that they could try to figure out our encoding key, and then, if successful, decode our messages. \n",
    "\n",
    "Thought experiment: can you think of ways to decode messages that use this encoding?\n",
    "\n",
    "To thwart this potential attacker, let's now explore using a *custom encoding*. Instead of manipulating code points, we are going to use a custom mapping to switch out characters to encode our messages. "
   ]
  },
  {
   "cell_type": "markdown",
   "metadata": {
    "deletable": false,
    "editable": false,
    "nbgrader": {
     "cell_type": "markdown",
     "checksum": "18469b7ee59dc4fe18b78ae318b4b52d",
     "grade": false,
     "grade_id": "cell-b100f42a04e547a9",
     "locked": true,
     "schema_version": 3,
     "solution": false
    }
   },
   "source": [
    "### Q14 - Custom Encoder (1 point)\n",
    "\n",
    "Write a function `custom_encoder()` to encode a character from original messages, using our custom encoding scheme (defined below).\n",
    "\n",
    "This function should take two input parameters:\n",
    "\n",
    "- `char` | the character to be encoded using our custom encoding scheme\n",
    "- `key` | the `key` to be used in encoding (int; default: 200)\n",
    "\n",
    "Within the function, carry out the following:\n",
    "- Define the dictionary `custom_encodings` (provided at end of this cell)\n",
    "- If `char` is a key in the `custom_encodings` dictionary, store the corresponding value from the dictionary in `output_char` (i.e. if `char` were 'o', the function would return `'n'`)\n",
    "- Otherwise, use the `encoder()` function you wrote earlier, storing the output in `output_char`, being sure to pass both `char` and `key` in as inputs.\n",
    "\n",
    "Be sure to `return` the encoded character (`output_char`) from the function\n",
    "        \n",
    "        \n",
    "```python\n",
    "custom_encodings = {\n",
    "    'a' : 'r', \n",
    "    'e' : 'p', \n",
    "    'i' : 'm',\n",
    "    'o' : 'n',\n",
    "    'u' : 's'\n",
    "}\n",
    "```"
   ]
  },
  {
   "cell_type": "code",
   "execution_count": 57,
   "metadata": {
    "deletable": false,
    "nbgrader": {
     "cell_type": "code",
     "checksum": "1bf7ce81bc57e1d3785848ef1b335aa8",
     "grade": false,
     "grade_id": "cell-c71c52f6393468cd",
     "locked": false,
     "schema_version": 3,
     "solution": true
    }
   },
   "outputs": [],
   "source": [
    "def custom_encoder(char, key=200):\n",
    "    \n",
    "    custom_encodings = {\n",
    "        'a' : 'r', \n",
    "        'e' : 'p', \n",
    "        'i' : 'm',\n",
    "        'o' : 'n',\n",
    "        'u' : 's'\n",
    "    }\n",
    "    \n",
    "    if char in custom_encodings:\n",
    "        output_char = custom_encodings[char]\n",
    "    else:\n",
    "        output_char = encoder(char, key)\n",
    "        \n",
    "    return output_char"
   ]
  },
  {
   "cell_type": "code",
   "execution_count": 58,
   "metadata": {
    "deletable": false,
    "editable": false,
    "nbgrader": {
     "cell_type": "code",
     "checksum": "df13978f87155cf66768a5a64ef39ec9",
     "grade": true,
     "grade_id": "cell-66b937622cc2a5f6",
     "locked": true,
     "points": 0.5,
     "schema_version": 3,
     "solution": false
    }
   },
   "outputs": [],
   "source": [
    "# test for char in custom_encodings\n",
    "custom_encoded = custom_encoder('a')\n",
    "assert type(custom_encoded) == str\n",
    "assert custom_encoded == 'r'\n"
   ]
  },
  {
   "cell_type": "code",
   "execution_count": 59,
   "metadata": {
    "deletable": false,
    "editable": false,
    "nbgrader": {
     "cell_type": "code",
     "checksum": "220300c0e1f1afe3a7205346c1c66a43",
     "grade": true,
     "grade_id": "cell-36ff28ecfc316fc0",
     "locked": true,
     "points": 0.5,
     "schema_version": 3,
     "solution": false
    }
   },
   "outputs": [],
   "source": [
    "# tests for char NOT in custom_encodings & variable key\n",
    "custom_encoded = custom_encoder('A')\n",
    "assert type(custom_encoded) == str\n",
    "assert custom_encoded == 'ĉ'\n"
   ]
  },
  {
   "cell_type": "markdown",
   "metadata": {
    "deletable": false,
    "editable": false,
    "nbgrader": {
     "cell_type": "markdown",
     "checksum": "eb707188e37a7e591adf8b39d6eaac75",
     "grade": false,
     "grade_id": "cell-40d37bfa22765f04",
     "locked": true,
     "schema_version": 3,
     "solution": false
    }
   },
   "source": [
    "## The End!\n",
    "\n",
    "This is the end of the assignment!\n",
    "\n",
    "Have a look back over your answers, and also make sure to Restart & Run All from the kernel menu to double check that everything is working properly and all of your asserts pass silently. \n",
    "\n",
    "When you are ready, submit to datahub."
   ]
  }
 ],
 "metadata": {
  "kernelspec": {
   "display_name": "Python 3 (ipykernel)",
   "language": "python",
   "name": "python3"
  },
  "language_info": {
   "codemirror_mode": {
    "name": "ipython",
    "version": 3
   },
   "file_extension": ".py",
   "mimetype": "text/x-python",
   "name": "python",
   "nbconvert_exporter": "python",
   "pygments_lexer": "ipython3",
   "version": "3.9.5"
  }
 },
 "nbformat": 4,
 "nbformat_minor": 2
}
